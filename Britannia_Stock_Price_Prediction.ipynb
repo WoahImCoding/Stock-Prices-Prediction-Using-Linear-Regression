{
  "nbformat": 4,
  "nbformat_minor": 0,
  "metadata": {
    "colab": {
      "provenance": []
    },
    "kernelspec": {
      "name": "python3",
      "display_name": "Python 3"
    },
    "language_info": {
      "name": "python"
    }
  },
  "cells": [
    {
      "cell_type": "code",
      "source": [
        "from google.colab import files\n",
        "\n",
        "uploaded = files.upload()\n"
      ],
      "metadata": {
        "colab": {
          "base_uri": "https://localhost:8080/",
          "height": 110
        },
        "id": "fWiYL6GC4rzK",
        "outputId": "2e5c5f7a-2cb4-4175-9ba8-3c7412f9fbc7"
      },
      "execution_count": 1,
      "outputs": [
        {
          "output_type": "display_data",
          "data": {
            "text/plain": [
              "<IPython.core.display.HTML object>"
            ],
            "text/html": [
              "\n",
              "     <input type=\"file\" id=\"files-9691d599-7f84-4caa-8608-5e3e1b0aa6f4\" name=\"files[]\" multiple disabled\n",
              "        style=\"border:none\" />\n",
              "     <output id=\"result-9691d599-7f84-4caa-8608-5e3e1b0aa6f4\">\n",
              "      Upload widget is only available when the cell has been executed in the\n",
              "      current browser session. Please rerun this cell to enable.\n",
              "      </output>\n",
              "      <script>// Copyright 2017 Google LLC\n",
              "//\n",
              "// Licensed under the Apache License, Version 2.0 (the \"License\");\n",
              "// you may not use this file except in compliance with the License.\n",
              "// You may obtain a copy of the License at\n",
              "//\n",
              "//      http://www.apache.org/licenses/LICENSE-2.0\n",
              "//\n",
              "// Unless required by applicable law or agreed to in writing, software\n",
              "// distributed under the License is distributed on an \"AS IS\" BASIS,\n",
              "// WITHOUT WARRANTIES OR CONDITIONS OF ANY KIND, either express or implied.\n",
              "// See the License for the specific language governing permissions and\n",
              "// limitations under the License.\n",
              "\n",
              "/**\n",
              " * @fileoverview Helpers for google.colab Python module.\n",
              " */\n",
              "(function(scope) {\n",
              "function span(text, styleAttributes = {}) {\n",
              "  const element = document.createElement('span');\n",
              "  element.textContent = text;\n",
              "  for (const key of Object.keys(styleAttributes)) {\n",
              "    element.style[key] = styleAttributes[key];\n",
              "  }\n",
              "  return element;\n",
              "}\n",
              "\n",
              "// Max number of bytes which will be uploaded at a time.\n",
              "const MAX_PAYLOAD_SIZE = 100 * 1024;\n",
              "\n",
              "function _uploadFiles(inputId, outputId) {\n",
              "  const steps = uploadFilesStep(inputId, outputId);\n",
              "  const outputElement = document.getElementById(outputId);\n",
              "  // Cache steps on the outputElement to make it available for the next call\n",
              "  // to uploadFilesContinue from Python.\n",
              "  outputElement.steps = steps;\n",
              "\n",
              "  return _uploadFilesContinue(outputId);\n",
              "}\n",
              "\n",
              "// This is roughly an async generator (not supported in the browser yet),\n",
              "// where there are multiple asynchronous steps and the Python side is going\n",
              "// to poll for completion of each step.\n",
              "// This uses a Promise to block the python side on completion of each step,\n",
              "// then passes the result of the previous step as the input to the next step.\n",
              "function _uploadFilesContinue(outputId) {\n",
              "  const outputElement = document.getElementById(outputId);\n",
              "  const steps = outputElement.steps;\n",
              "\n",
              "  const next = steps.next(outputElement.lastPromiseValue);\n",
              "  return Promise.resolve(next.value.promise).then((value) => {\n",
              "    // Cache the last promise value to make it available to the next\n",
              "    // step of the generator.\n",
              "    outputElement.lastPromiseValue = value;\n",
              "    return next.value.response;\n",
              "  });\n",
              "}\n",
              "\n",
              "/**\n",
              " * Generator function which is called between each async step of the upload\n",
              " * process.\n",
              " * @param {string} inputId Element ID of the input file picker element.\n",
              " * @param {string} outputId Element ID of the output display.\n",
              " * @return {!Iterable<!Object>} Iterable of next steps.\n",
              " */\n",
              "function* uploadFilesStep(inputId, outputId) {\n",
              "  const inputElement = document.getElementById(inputId);\n",
              "  inputElement.disabled = false;\n",
              "\n",
              "  const outputElement = document.getElementById(outputId);\n",
              "  outputElement.innerHTML = '';\n",
              "\n",
              "  const pickedPromise = new Promise((resolve) => {\n",
              "    inputElement.addEventListener('change', (e) => {\n",
              "      resolve(e.target.files);\n",
              "    });\n",
              "  });\n",
              "\n",
              "  const cancel = document.createElement('button');\n",
              "  inputElement.parentElement.appendChild(cancel);\n",
              "  cancel.textContent = 'Cancel upload';\n",
              "  const cancelPromise = new Promise((resolve) => {\n",
              "    cancel.onclick = () => {\n",
              "      resolve(null);\n",
              "    };\n",
              "  });\n",
              "\n",
              "  // Wait for the user to pick the files.\n",
              "  const files = yield {\n",
              "    promise: Promise.race([pickedPromise, cancelPromise]),\n",
              "    response: {\n",
              "      action: 'starting',\n",
              "    }\n",
              "  };\n",
              "\n",
              "  cancel.remove();\n",
              "\n",
              "  // Disable the input element since further picks are not allowed.\n",
              "  inputElement.disabled = true;\n",
              "\n",
              "  if (!files) {\n",
              "    return {\n",
              "      response: {\n",
              "        action: 'complete',\n",
              "      }\n",
              "    };\n",
              "  }\n",
              "\n",
              "  for (const file of files) {\n",
              "    const li = document.createElement('li');\n",
              "    li.append(span(file.name, {fontWeight: 'bold'}));\n",
              "    li.append(span(\n",
              "        `(${file.type || 'n/a'}) - ${file.size} bytes, ` +\n",
              "        `last modified: ${\n",
              "            file.lastModifiedDate ? file.lastModifiedDate.toLocaleDateString() :\n",
              "                                    'n/a'} - `));\n",
              "    const percent = span('0% done');\n",
              "    li.appendChild(percent);\n",
              "\n",
              "    outputElement.appendChild(li);\n",
              "\n",
              "    const fileDataPromise = new Promise((resolve) => {\n",
              "      const reader = new FileReader();\n",
              "      reader.onload = (e) => {\n",
              "        resolve(e.target.result);\n",
              "      };\n",
              "      reader.readAsArrayBuffer(file);\n",
              "    });\n",
              "    // Wait for the data to be ready.\n",
              "    let fileData = yield {\n",
              "      promise: fileDataPromise,\n",
              "      response: {\n",
              "        action: 'continue',\n",
              "      }\n",
              "    };\n",
              "\n",
              "    // Use a chunked sending to avoid message size limits. See b/62115660.\n",
              "    let position = 0;\n",
              "    do {\n",
              "      const length = Math.min(fileData.byteLength - position, MAX_PAYLOAD_SIZE);\n",
              "      const chunk = new Uint8Array(fileData, position, length);\n",
              "      position += length;\n",
              "\n",
              "      const base64 = btoa(String.fromCharCode.apply(null, chunk));\n",
              "      yield {\n",
              "        response: {\n",
              "          action: 'append',\n",
              "          file: file.name,\n",
              "          data: base64,\n",
              "        },\n",
              "      };\n",
              "\n",
              "      let percentDone = fileData.byteLength === 0 ?\n",
              "          100 :\n",
              "          Math.round((position / fileData.byteLength) * 100);\n",
              "      percent.textContent = `${percentDone}% done`;\n",
              "\n",
              "    } while (position < fileData.byteLength);\n",
              "  }\n",
              "\n",
              "  // All done.\n",
              "  yield {\n",
              "    response: {\n",
              "      action: 'complete',\n",
              "    }\n",
              "  };\n",
              "}\n",
              "\n",
              "scope.google = scope.google || {};\n",
              "scope.google.colab = scope.google.colab || {};\n",
              "scope.google.colab._files = {\n",
              "  _uploadFiles,\n",
              "  _uploadFilesContinue,\n",
              "};\n",
              "})(self);\n",
              "</script> "
            ]
          },
          "metadata": {}
        },
        {
          "output_type": "stream",
          "name": "stdout",
          "text": [
            "Saving Download Data - STOCK_IN_XBOM_500825.csv to Download Data - STOCK_IN_XBOM_500825.csv\n"
          ]
        }
      ]
    },
    {
      "cell_type": "code",
      "execution_count": 38,
      "metadata": {
        "id": "PdXcAAeHHlxv"
      },
      "outputs": [],
      "source": [
        "# import libraries\n",
        "\n",
        "import pandas as pd\n",
        "import numpy as np\n",
        "import matplotlib.pyplot as plt\n",
        "get_ipython().run_line_magic('matplotlib', 'inline')\n",
        "\n",
        "import chart_studio.plotly as py\n",
        "import plotly.graph_objs as go\n",
        "from plotly.offline import plot,iplot\n",
        "import plotly.express as px\n",
        "import plotly.io as pio\n",
        "from plotly.offline import iplot\n",
        "%matplotlib inline"
      ]
    },
    {
      "cell_type": "code",
      "source": [
        "Britannia=pd.read_csv('Download Data - STOCK_IN_XBOM_500825.csv')"
      ],
      "metadata": {
        "id": "kCbKMo7oJSUl"
      },
      "execution_count": 7,
      "outputs": []
    },
    {
      "cell_type": "markdown",
      "source": [],
      "metadata": {
        "id": "QHI-OvMG_9k1"
      }
    },
    {
      "cell_type": "code",
      "source": [
        "Britannia.info()\n"
      ],
      "metadata": {
        "colab": {
          "base_uri": "https://localhost:8080/"
        },
        "id": "aIXk4nQK6EgS",
        "outputId": "e8776172-aec6-459e-b9f2-fd56cd74fa1d"
      },
      "execution_count": 8,
      "outputs": [
        {
          "output_type": "stream",
          "name": "stdout",
          "text": [
            "<class 'pandas.core.frame.DataFrame'>\n",
            "RangeIndex: 247 entries, 0 to 246\n",
            "Data columns (total 6 columns):\n",
            " #   Column  Non-Null Count  Dtype \n",
            "---  ------  --------------  ----- \n",
            " 0   Date    247 non-null    object\n",
            " 1   Open    247 non-null    object\n",
            " 2   High    247 non-null    object\n",
            " 3   Low     247 non-null    object\n",
            " 4   Close   247 non-null    object\n",
            " 5   Volume  247 non-null    object\n",
            "dtypes: object(6)\n",
            "memory usage: 11.7+ KB\n"
          ]
        }
      ]
    },
    {
      "cell_type": "code",
      "source": [
        "Britannia.describe()"
      ],
      "metadata": {
        "colab": {
          "base_uri": "https://localhost:8080/",
          "height": 175
        },
        "id": "o0Pjut-D_zui",
        "outputId": "52ff2c2d-af97-42d7-8196-748ffdf527a3"
      },
      "execution_count": 10,
      "outputs": [
        {
          "output_type": "execute_result",
          "data": {
            "text/plain": [
              "              Date      Open      High       Low     Close Volume\n",
              "count          247       247       247       247       247    247\n",
              "unique         247       239       240       240       247    246\n",
              "top     03/15/2024  4,679.95  4,830.00  4,860.00  4,976.25  5,088\n",
              "freq             1         3         2         3         1      2"
            ],
            "text/html": [
              "\n",
              "  <div id=\"df-37392aff-c307-4e5c-b117-5ae0b0d8c3f1\" class=\"colab-df-container\">\n",
              "    <div>\n",
              "<style scoped>\n",
              "    .dataframe tbody tr th:only-of-type {\n",
              "        vertical-align: middle;\n",
              "    }\n",
              "\n",
              "    .dataframe tbody tr th {\n",
              "        vertical-align: top;\n",
              "    }\n",
              "\n",
              "    .dataframe thead th {\n",
              "        text-align: right;\n",
              "    }\n",
              "</style>\n",
              "<table border=\"1\" class=\"dataframe\">\n",
              "  <thead>\n",
              "    <tr style=\"text-align: right;\">\n",
              "      <th></th>\n",
              "      <th>Date</th>\n",
              "      <th>Open</th>\n",
              "      <th>High</th>\n",
              "      <th>Low</th>\n",
              "      <th>Close</th>\n",
              "      <th>Volume</th>\n",
              "    </tr>\n",
              "  </thead>\n",
              "  <tbody>\n",
              "    <tr>\n",
              "      <th>count</th>\n",
              "      <td>247</td>\n",
              "      <td>247</td>\n",
              "      <td>247</td>\n",
              "      <td>247</td>\n",
              "      <td>247</td>\n",
              "      <td>247</td>\n",
              "    </tr>\n",
              "    <tr>\n",
              "      <th>unique</th>\n",
              "      <td>247</td>\n",
              "      <td>239</td>\n",
              "      <td>240</td>\n",
              "      <td>240</td>\n",
              "      <td>247</td>\n",
              "      <td>246</td>\n",
              "    </tr>\n",
              "    <tr>\n",
              "      <th>top</th>\n",
              "      <td>03/15/2024</td>\n",
              "      <td>4,679.95</td>\n",
              "      <td>4,830.00</td>\n",
              "      <td>4,860.00</td>\n",
              "      <td>4,976.25</td>\n",
              "      <td>5,088</td>\n",
              "    </tr>\n",
              "    <tr>\n",
              "      <th>freq</th>\n",
              "      <td>1</td>\n",
              "      <td>3</td>\n",
              "      <td>2</td>\n",
              "      <td>3</td>\n",
              "      <td>1</td>\n",
              "      <td>2</td>\n",
              "    </tr>\n",
              "  </tbody>\n",
              "</table>\n",
              "</div>\n",
              "    <div class=\"colab-df-buttons\">\n",
              "\n",
              "  <div class=\"colab-df-container\">\n",
              "    <button class=\"colab-df-convert\" onclick=\"convertToInteractive('df-37392aff-c307-4e5c-b117-5ae0b0d8c3f1')\"\n",
              "            title=\"Convert this dataframe to an interactive table.\"\n",
              "            style=\"display:none;\">\n",
              "\n",
              "  <svg xmlns=\"http://www.w3.org/2000/svg\" height=\"24px\" viewBox=\"0 -960 960 960\">\n",
              "    <path d=\"M120-120v-720h720v720H120Zm60-500h600v-160H180v160Zm220 220h160v-160H400v160Zm0 220h160v-160H400v160ZM180-400h160v-160H180v160Zm440 0h160v-160H620v160ZM180-180h160v-160H180v160Zm440 0h160v-160H620v160Z\"/>\n",
              "  </svg>\n",
              "    </button>\n",
              "\n",
              "  <style>\n",
              "    .colab-df-container {\n",
              "      display:flex;\n",
              "      gap: 12px;\n",
              "    }\n",
              "\n",
              "    .colab-df-convert {\n",
              "      background-color: #E8F0FE;\n",
              "      border: none;\n",
              "      border-radius: 50%;\n",
              "      cursor: pointer;\n",
              "      display: none;\n",
              "      fill: #1967D2;\n",
              "      height: 32px;\n",
              "      padding: 0 0 0 0;\n",
              "      width: 32px;\n",
              "    }\n",
              "\n",
              "    .colab-df-convert:hover {\n",
              "      background-color: #E2EBFA;\n",
              "      box-shadow: 0px 1px 2px rgba(60, 64, 67, 0.3), 0px 1px 3px 1px rgba(60, 64, 67, 0.15);\n",
              "      fill: #174EA6;\n",
              "    }\n",
              "\n",
              "    .colab-df-buttons div {\n",
              "      margin-bottom: 4px;\n",
              "    }\n",
              "\n",
              "    [theme=dark] .colab-df-convert {\n",
              "      background-color: #3B4455;\n",
              "      fill: #D2E3FC;\n",
              "    }\n",
              "\n",
              "    [theme=dark] .colab-df-convert:hover {\n",
              "      background-color: #434B5C;\n",
              "      box-shadow: 0px 1px 3px 1px rgba(0, 0, 0, 0.15);\n",
              "      filter: drop-shadow(0px 1px 2px rgba(0, 0, 0, 0.3));\n",
              "      fill: #FFFFFF;\n",
              "    }\n",
              "  </style>\n",
              "\n",
              "    <script>\n",
              "      const buttonEl =\n",
              "        document.querySelector('#df-37392aff-c307-4e5c-b117-5ae0b0d8c3f1 button.colab-df-convert');\n",
              "      buttonEl.style.display =\n",
              "        google.colab.kernel.accessAllowed ? 'block' : 'none';\n",
              "\n",
              "      async function convertToInteractive(key) {\n",
              "        const element = document.querySelector('#df-37392aff-c307-4e5c-b117-5ae0b0d8c3f1');\n",
              "        const dataTable =\n",
              "          await google.colab.kernel.invokeFunction('convertToInteractive',\n",
              "                                                    [key], {});\n",
              "        if (!dataTable) return;\n",
              "\n",
              "        const docLinkHtml = 'Like what you see? Visit the ' +\n",
              "          '<a target=\"_blank\" href=https://colab.research.google.com/notebooks/data_table.ipynb>data table notebook</a>'\n",
              "          + ' to learn more about interactive tables.';\n",
              "        element.innerHTML = '';\n",
              "        dataTable['output_type'] = 'display_data';\n",
              "        await google.colab.output.renderOutput(dataTable, element);\n",
              "        const docLink = document.createElement('div');\n",
              "        docLink.innerHTML = docLinkHtml;\n",
              "        element.appendChild(docLink);\n",
              "      }\n",
              "    </script>\n",
              "  </div>\n",
              "\n",
              "\n",
              "<div id=\"df-8b22bd6b-6f68-49e4-882b-5cda79929862\">\n",
              "  <button class=\"colab-df-quickchart\" onclick=\"quickchart('df-8b22bd6b-6f68-49e4-882b-5cda79929862')\"\n",
              "            title=\"Suggest charts\"\n",
              "            style=\"display:none;\">\n",
              "\n",
              "<svg xmlns=\"http://www.w3.org/2000/svg\" height=\"24px\"viewBox=\"0 0 24 24\"\n",
              "     width=\"24px\">\n",
              "    <g>\n",
              "        <path d=\"M19 3H5c-1.1 0-2 .9-2 2v14c0 1.1.9 2 2 2h14c1.1 0 2-.9 2-2V5c0-1.1-.9-2-2-2zM9 17H7v-7h2v7zm4 0h-2V7h2v10zm4 0h-2v-4h2v4z\"/>\n",
              "    </g>\n",
              "</svg>\n",
              "  </button>\n",
              "\n",
              "<style>\n",
              "  .colab-df-quickchart {\n",
              "      --bg-color: #E8F0FE;\n",
              "      --fill-color: #1967D2;\n",
              "      --hover-bg-color: #E2EBFA;\n",
              "      --hover-fill-color: #174EA6;\n",
              "      --disabled-fill-color: #AAA;\n",
              "      --disabled-bg-color: #DDD;\n",
              "  }\n",
              "\n",
              "  [theme=dark] .colab-df-quickchart {\n",
              "      --bg-color: #3B4455;\n",
              "      --fill-color: #D2E3FC;\n",
              "      --hover-bg-color: #434B5C;\n",
              "      --hover-fill-color: #FFFFFF;\n",
              "      --disabled-bg-color: #3B4455;\n",
              "      --disabled-fill-color: #666;\n",
              "  }\n",
              "\n",
              "  .colab-df-quickchart {\n",
              "    background-color: var(--bg-color);\n",
              "    border: none;\n",
              "    border-radius: 50%;\n",
              "    cursor: pointer;\n",
              "    display: none;\n",
              "    fill: var(--fill-color);\n",
              "    height: 32px;\n",
              "    padding: 0;\n",
              "    width: 32px;\n",
              "  }\n",
              "\n",
              "  .colab-df-quickchart:hover {\n",
              "    background-color: var(--hover-bg-color);\n",
              "    box-shadow: 0 1px 2px rgba(60, 64, 67, 0.3), 0 1px 3px 1px rgba(60, 64, 67, 0.15);\n",
              "    fill: var(--button-hover-fill-color);\n",
              "  }\n",
              "\n",
              "  .colab-df-quickchart-complete:disabled,\n",
              "  .colab-df-quickchart-complete:disabled:hover {\n",
              "    background-color: var(--disabled-bg-color);\n",
              "    fill: var(--disabled-fill-color);\n",
              "    box-shadow: none;\n",
              "  }\n",
              "\n",
              "  .colab-df-spinner {\n",
              "    border: 2px solid var(--fill-color);\n",
              "    border-color: transparent;\n",
              "    border-bottom-color: var(--fill-color);\n",
              "    animation:\n",
              "      spin 1s steps(1) infinite;\n",
              "  }\n",
              "\n",
              "  @keyframes spin {\n",
              "    0% {\n",
              "      border-color: transparent;\n",
              "      border-bottom-color: var(--fill-color);\n",
              "      border-left-color: var(--fill-color);\n",
              "    }\n",
              "    20% {\n",
              "      border-color: transparent;\n",
              "      border-left-color: var(--fill-color);\n",
              "      border-top-color: var(--fill-color);\n",
              "    }\n",
              "    30% {\n",
              "      border-color: transparent;\n",
              "      border-left-color: var(--fill-color);\n",
              "      border-top-color: var(--fill-color);\n",
              "      border-right-color: var(--fill-color);\n",
              "    }\n",
              "    40% {\n",
              "      border-color: transparent;\n",
              "      border-right-color: var(--fill-color);\n",
              "      border-top-color: var(--fill-color);\n",
              "    }\n",
              "    60% {\n",
              "      border-color: transparent;\n",
              "      border-right-color: var(--fill-color);\n",
              "    }\n",
              "    80% {\n",
              "      border-color: transparent;\n",
              "      border-right-color: var(--fill-color);\n",
              "      border-bottom-color: var(--fill-color);\n",
              "    }\n",
              "    90% {\n",
              "      border-color: transparent;\n",
              "      border-bottom-color: var(--fill-color);\n",
              "    }\n",
              "  }\n",
              "</style>\n",
              "\n",
              "  <script>\n",
              "    async function quickchart(key) {\n",
              "      const quickchartButtonEl =\n",
              "        document.querySelector('#' + key + ' button');\n",
              "      quickchartButtonEl.disabled = true;  // To prevent multiple clicks.\n",
              "      quickchartButtonEl.classList.add('colab-df-spinner');\n",
              "      try {\n",
              "        const charts = await google.colab.kernel.invokeFunction(\n",
              "            'suggestCharts', [key], {});\n",
              "      } catch (error) {\n",
              "        console.error('Error during call to suggestCharts:', error);\n",
              "      }\n",
              "      quickchartButtonEl.classList.remove('colab-df-spinner');\n",
              "      quickchartButtonEl.classList.add('colab-df-quickchart-complete');\n",
              "    }\n",
              "    (() => {\n",
              "      let quickchartButtonEl =\n",
              "        document.querySelector('#df-8b22bd6b-6f68-49e4-882b-5cda79929862 button');\n",
              "      quickchartButtonEl.style.display =\n",
              "        google.colab.kernel.accessAllowed ? 'block' : 'none';\n",
              "    })();\n",
              "  </script>\n",
              "</div>\n",
              "\n",
              "    </div>\n",
              "  </div>\n"
            ],
            "application/vnd.google.colaboratory.intrinsic+json": {
              "type": "dataframe",
              "summary": "{\n  \"name\": \"Britannia\",\n  \"rows\": 4,\n  \"fields\": [\n    {\n      \"column\": \"Date\",\n      \"properties\": {\n        \"dtype\": \"date\",\n        \"min\": \"1970-01-01 00:00:00.000000001\",\n        \"max\": \"2024-03-15 00:00:00\",\n        \"num_unique_values\": 3,\n        \"samples\": [\n          \"247\",\n          \"03/15/2024\",\n          \"1\"\n        ],\n        \"semantic_type\": \"\",\n        \"description\": \"\"\n      }\n    },\n    {\n      \"column\": \"Open\",\n      \"properties\": {\n        \"dtype\": \"string\",\n        \"num_unique_values\": 4,\n        \"samples\": [\n          239,\n          \"3\",\n          \"247\"\n        ],\n        \"semantic_type\": \"\",\n        \"description\": \"\"\n      }\n    },\n    {\n      \"column\": \"High\",\n      \"properties\": {\n        \"dtype\": \"string\",\n        \"num_unique_values\": 4,\n        \"samples\": [\n          240,\n          \"2\",\n          \"247\"\n        ],\n        \"semantic_type\": \"\",\n        \"description\": \"\"\n      }\n    },\n    {\n      \"column\": \"Low\",\n      \"properties\": {\n        \"dtype\": \"string\",\n        \"num_unique_values\": 4,\n        \"samples\": [\n          240,\n          \"3\",\n          \"247\"\n        ],\n        \"semantic_type\": \"\",\n        \"description\": \"\"\n      }\n    },\n    {\n      \"column\": \"Close\",\n      \"properties\": {\n        \"dtype\": \"string\",\n        \"num_unique_values\": 3,\n        \"samples\": [\n          \"247\",\n          \"4,976.25\",\n          \"1\"\n        ],\n        \"semantic_type\": \"\",\n        \"description\": \"\"\n      }\n    },\n    {\n      \"column\": \"Volume\",\n      \"properties\": {\n        \"dtype\": \"date\",\n        \"min\": \"1970-01-01 00:00:00.000000002\",\n        \"max\": \"1988-05-01 00:00:00\",\n        \"num_unique_values\": 4,\n        \"samples\": [\n          246,\n          \"2\",\n          \"247\"\n        ],\n        \"semantic_type\": \"\",\n        \"description\": \"\"\n      }\n    }\n  ]\n}"
            }
          },
          "metadata": {},
          "execution_count": 10
        }
      ]
    },
    {
      "cell_type": "code",
      "source": [
        "Britannia.head()"
      ],
      "metadata": {
        "colab": {
          "base_uri": "https://localhost:8080/",
          "height": 206
        },
        "id": "chS8Hxeg_2Dr",
        "outputId": "7d766e5e-719d-45a5-d9cc-ca35e2b3e562"
      },
      "execution_count": 11,
      "outputs": [
        {
          "output_type": "execute_result",
          "data": {
            "text/plain": [
              "         Date      Open      High       Low     Close  Volume\n",
              "0  03/15/2024  4,938.05  5,008.55  4,919.15  4,976.25  10,425\n",
              "1  03/14/2024  4,826.05  4,953.95  4,786.45  4,938.50   4,351\n",
              "2  03/13/2024  4,868.60  4,975.00  4,824.35  4,857.50   6,009\n",
              "3  03/12/2024  4,937.20  4,937.20  4,852.45  4,868.25   2,049\n",
              "4  03/11/2024  4,887.30  4,956.00  4,874.95  4,936.75   2,557"
            ],
            "text/html": [
              "\n",
              "  <div id=\"df-1f5f30ef-07e4-48e6-847c-393e22fdcf74\" class=\"colab-df-container\">\n",
              "    <div>\n",
              "<style scoped>\n",
              "    .dataframe tbody tr th:only-of-type {\n",
              "        vertical-align: middle;\n",
              "    }\n",
              "\n",
              "    .dataframe tbody tr th {\n",
              "        vertical-align: top;\n",
              "    }\n",
              "\n",
              "    .dataframe thead th {\n",
              "        text-align: right;\n",
              "    }\n",
              "</style>\n",
              "<table border=\"1\" class=\"dataframe\">\n",
              "  <thead>\n",
              "    <tr style=\"text-align: right;\">\n",
              "      <th></th>\n",
              "      <th>Date</th>\n",
              "      <th>Open</th>\n",
              "      <th>High</th>\n",
              "      <th>Low</th>\n",
              "      <th>Close</th>\n",
              "      <th>Volume</th>\n",
              "    </tr>\n",
              "  </thead>\n",
              "  <tbody>\n",
              "    <tr>\n",
              "      <th>0</th>\n",
              "      <td>03/15/2024</td>\n",
              "      <td>4,938.05</td>\n",
              "      <td>5,008.55</td>\n",
              "      <td>4,919.15</td>\n",
              "      <td>4,976.25</td>\n",
              "      <td>10,425</td>\n",
              "    </tr>\n",
              "    <tr>\n",
              "      <th>1</th>\n",
              "      <td>03/14/2024</td>\n",
              "      <td>4,826.05</td>\n",
              "      <td>4,953.95</td>\n",
              "      <td>4,786.45</td>\n",
              "      <td>4,938.50</td>\n",
              "      <td>4,351</td>\n",
              "    </tr>\n",
              "    <tr>\n",
              "      <th>2</th>\n",
              "      <td>03/13/2024</td>\n",
              "      <td>4,868.60</td>\n",
              "      <td>4,975.00</td>\n",
              "      <td>4,824.35</td>\n",
              "      <td>4,857.50</td>\n",
              "      <td>6,009</td>\n",
              "    </tr>\n",
              "    <tr>\n",
              "      <th>3</th>\n",
              "      <td>03/12/2024</td>\n",
              "      <td>4,937.20</td>\n",
              "      <td>4,937.20</td>\n",
              "      <td>4,852.45</td>\n",
              "      <td>4,868.25</td>\n",
              "      <td>2,049</td>\n",
              "    </tr>\n",
              "    <tr>\n",
              "      <th>4</th>\n",
              "      <td>03/11/2024</td>\n",
              "      <td>4,887.30</td>\n",
              "      <td>4,956.00</td>\n",
              "      <td>4,874.95</td>\n",
              "      <td>4,936.75</td>\n",
              "      <td>2,557</td>\n",
              "    </tr>\n",
              "  </tbody>\n",
              "</table>\n",
              "</div>\n",
              "    <div class=\"colab-df-buttons\">\n",
              "\n",
              "  <div class=\"colab-df-container\">\n",
              "    <button class=\"colab-df-convert\" onclick=\"convertToInteractive('df-1f5f30ef-07e4-48e6-847c-393e22fdcf74')\"\n",
              "            title=\"Convert this dataframe to an interactive table.\"\n",
              "            style=\"display:none;\">\n",
              "\n",
              "  <svg xmlns=\"http://www.w3.org/2000/svg\" height=\"24px\" viewBox=\"0 -960 960 960\">\n",
              "    <path d=\"M120-120v-720h720v720H120Zm60-500h600v-160H180v160Zm220 220h160v-160H400v160Zm0 220h160v-160H400v160ZM180-400h160v-160H180v160Zm440 0h160v-160H620v160ZM180-180h160v-160H180v160Zm440 0h160v-160H620v160Z\"/>\n",
              "  </svg>\n",
              "    </button>\n",
              "\n",
              "  <style>\n",
              "    .colab-df-container {\n",
              "      display:flex;\n",
              "      gap: 12px;\n",
              "    }\n",
              "\n",
              "    .colab-df-convert {\n",
              "      background-color: #E8F0FE;\n",
              "      border: none;\n",
              "      border-radius: 50%;\n",
              "      cursor: pointer;\n",
              "      display: none;\n",
              "      fill: #1967D2;\n",
              "      height: 32px;\n",
              "      padding: 0 0 0 0;\n",
              "      width: 32px;\n",
              "    }\n",
              "\n",
              "    .colab-df-convert:hover {\n",
              "      background-color: #E2EBFA;\n",
              "      box-shadow: 0px 1px 2px rgba(60, 64, 67, 0.3), 0px 1px 3px 1px rgba(60, 64, 67, 0.15);\n",
              "      fill: #174EA6;\n",
              "    }\n",
              "\n",
              "    .colab-df-buttons div {\n",
              "      margin-bottom: 4px;\n",
              "    }\n",
              "\n",
              "    [theme=dark] .colab-df-convert {\n",
              "      background-color: #3B4455;\n",
              "      fill: #D2E3FC;\n",
              "    }\n",
              "\n",
              "    [theme=dark] .colab-df-convert:hover {\n",
              "      background-color: #434B5C;\n",
              "      box-shadow: 0px 1px 3px 1px rgba(0, 0, 0, 0.15);\n",
              "      filter: drop-shadow(0px 1px 2px rgba(0, 0, 0, 0.3));\n",
              "      fill: #FFFFFF;\n",
              "    }\n",
              "  </style>\n",
              "\n",
              "    <script>\n",
              "      const buttonEl =\n",
              "        document.querySelector('#df-1f5f30ef-07e4-48e6-847c-393e22fdcf74 button.colab-df-convert');\n",
              "      buttonEl.style.display =\n",
              "        google.colab.kernel.accessAllowed ? 'block' : 'none';\n",
              "\n",
              "      async function convertToInteractive(key) {\n",
              "        const element = document.querySelector('#df-1f5f30ef-07e4-48e6-847c-393e22fdcf74');\n",
              "        const dataTable =\n",
              "          await google.colab.kernel.invokeFunction('convertToInteractive',\n",
              "                                                    [key], {});\n",
              "        if (!dataTable) return;\n",
              "\n",
              "        const docLinkHtml = 'Like what you see? Visit the ' +\n",
              "          '<a target=\"_blank\" href=https://colab.research.google.com/notebooks/data_table.ipynb>data table notebook</a>'\n",
              "          + ' to learn more about interactive tables.';\n",
              "        element.innerHTML = '';\n",
              "        dataTable['output_type'] = 'display_data';\n",
              "        await google.colab.output.renderOutput(dataTable, element);\n",
              "        const docLink = document.createElement('div');\n",
              "        docLink.innerHTML = docLinkHtml;\n",
              "        element.appendChild(docLink);\n",
              "      }\n",
              "    </script>\n",
              "  </div>\n",
              "\n",
              "\n",
              "<div id=\"df-f3d62c03-ada7-4f47-a10b-5a107edee2d0\">\n",
              "  <button class=\"colab-df-quickchart\" onclick=\"quickchart('df-f3d62c03-ada7-4f47-a10b-5a107edee2d0')\"\n",
              "            title=\"Suggest charts\"\n",
              "            style=\"display:none;\">\n",
              "\n",
              "<svg xmlns=\"http://www.w3.org/2000/svg\" height=\"24px\"viewBox=\"0 0 24 24\"\n",
              "     width=\"24px\">\n",
              "    <g>\n",
              "        <path d=\"M19 3H5c-1.1 0-2 .9-2 2v14c0 1.1.9 2 2 2h14c1.1 0 2-.9 2-2V5c0-1.1-.9-2-2-2zM9 17H7v-7h2v7zm4 0h-2V7h2v10zm4 0h-2v-4h2v4z\"/>\n",
              "    </g>\n",
              "</svg>\n",
              "  </button>\n",
              "\n",
              "<style>\n",
              "  .colab-df-quickchart {\n",
              "      --bg-color: #E8F0FE;\n",
              "      --fill-color: #1967D2;\n",
              "      --hover-bg-color: #E2EBFA;\n",
              "      --hover-fill-color: #174EA6;\n",
              "      --disabled-fill-color: #AAA;\n",
              "      --disabled-bg-color: #DDD;\n",
              "  }\n",
              "\n",
              "  [theme=dark] .colab-df-quickchart {\n",
              "      --bg-color: #3B4455;\n",
              "      --fill-color: #D2E3FC;\n",
              "      --hover-bg-color: #434B5C;\n",
              "      --hover-fill-color: #FFFFFF;\n",
              "      --disabled-bg-color: #3B4455;\n",
              "      --disabled-fill-color: #666;\n",
              "  }\n",
              "\n",
              "  .colab-df-quickchart {\n",
              "    background-color: var(--bg-color);\n",
              "    border: none;\n",
              "    border-radius: 50%;\n",
              "    cursor: pointer;\n",
              "    display: none;\n",
              "    fill: var(--fill-color);\n",
              "    height: 32px;\n",
              "    padding: 0;\n",
              "    width: 32px;\n",
              "  }\n",
              "\n",
              "  .colab-df-quickchart:hover {\n",
              "    background-color: var(--hover-bg-color);\n",
              "    box-shadow: 0 1px 2px rgba(60, 64, 67, 0.3), 0 1px 3px 1px rgba(60, 64, 67, 0.15);\n",
              "    fill: var(--button-hover-fill-color);\n",
              "  }\n",
              "\n",
              "  .colab-df-quickchart-complete:disabled,\n",
              "  .colab-df-quickchart-complete:disabled:hover {\n",
              "    background-color: var(--disabled-bg-color);\n",
              "    fill: var(--disabled-fill-color);\n",
              "    box-shadow: none;\n",
              "  }\n",
              "\n",
              "  .colab-df-spinner {\n",
              "    border: 2px solid var(--fill-color);\n",
              "    border-color: transparent;\n",
              "    border-bottom-color: var(--fill-color);\n",
              "    animation:\n",
              "      spin 1s steps(1) infinite;\n",
              "  }\n",
              "\n",
              "  @keyframes spin {\n",
              "    0% {\n",
              "      border-color: transparent;\n",
              "      border-bottom-color: var(--fill-color);\n",
              "      border-left-color: var(--fill-color);\n",
              "    }\n",
              "    20% {\n",
              "      border-color: transparent;\n",
              "      border-left-color: var(--fill-color);\n",
              "      border-top-color: var(--fill-color);\n",
              "    }\n",
              "    30% {\n",
              "      border-color: transparent;\n",
              "      border-left-color: var(--fill-color);\n",
              "      border-top-color: var(--fill-color);\n",
              "      border-right-color: var(--fill-color);\n",
              "    }\n",
              "    40% {\n",
              "      border-color: transparent;\n",
              "      border-right-color: var(--fill-color);\n",
              "      border-top-color: var(--fill-color);\n",
              "    }\n",
              "    60% {\n",
              "      border-color: transparent;\n",
              "      border-right-color: var(--fill-color);\n",
              "    }\n",
              "    80% {\n",
              "      border-color: transparent;\n",
              "      border-right-color: var(--fill-color);\n",
              "      border-bottom-color: var(--fill-color);\n",
              "    }\n",
              "    90% {\n",
              "      border-color: transparent;\n",
              "      border-bottom-color: var(--fill-color);\n",
              "    }\n",
              "  }\n",
              "</style>\n",
              "\n",
              "  <script>\n",
              "    async function quickchart(key) {\n",
              "      const quickchartButtonEl =\n",
              "        document.querySelector('#' + key + ' button');\n",
              "      quickchartButtonEl.disabled = true;  // To prevent multiple clicks.\n",
              "      quickchartButtonEl.classList.add('colab-df-spinner');\n",
              "      try {\n",
              "        const charts = await google.colab.kernel.invokeFunction(\n",
              "            'suggestCharts', [key], {});\n",
              "      } catch (error) {\n",
              "        console.error('Error during call to suggestCharts:', error);\n",
              "      }\n",
              "      quickchartButtonEl.classList.remove('colab-df-spinner');\n",
              "      quickchartButtonEl.classList.add('colab-df-quickchart-complete');\n",
              "    }\n",
              "    (() => {\n",
              "      let quickchartButtonEl =\n",
              "        document.querySelector('#df-f3d62c03-ada7-4f47-a10b-5a107edee2d0 button');\n",
              "      quickchartButtonEl.style.display =\n",
              "        google.colab.kernel.accessAllowed ? 'block' : 'none';\n",
              "    })();\n",
              "  </script>\n",
              "</div>\n",
              "\n",
              "    </div>\n",
              "  </div>\n"
            ],
            "application/vnd.google.colaboratory.intrinsic+json": {
              "type": "dataframe",
              "variable_name": "Britannia",
              "summary": "{\n  \"name\": \"Britannia\",\n  \"rows\": 247,\n  \"fields\": [\n    {\n      \"column\": \"Date\",\n      \"properties\": {\n        \"dtype\": \"object\",\n        \"num_unique_values\": 247,\n        \"samples\": [\n          \"01/29/2024\",\n          \"03/06/2024\",\n          \"06/21/2023\"\n        ],\n        \"semantic_type\": \"\",\n        \"description\": \"\"\n      }\n    },\n    {\n      \"column\": \"Open\",\n      \"properties\": {\n        \"dtype\": \"string\",\n        \"num_unique_values\": 239,\n        \"samples\": [\n          \"4,899.80\",\n          \"4,834.45\",\n          \"4,520.10\"\n        ],\n        \"semantic_type\": \"\",\n        \"description\": \"\"\n      }\n    },\n    {\n      \"column\": \"High\",\n      \"properties\": {\n        \"dtype\": \"string\",\n        \"num_unique_values\": 240,\n        \"samples\": [\n          \"4,976.20\",\n          \"4,885.30\",\n          \"4,522.00\"\n        ],\n        \"semantic_type\": \"\",\n        \"description\": \"\"\n      }\n    },\n    {\n      \"column\": \"Low\",\n      \"properties\": {\n        \"dtype\": \"string\",\n        \"num_unique_values\": 240,\n        \"samples\": [\n          \"4,862.25\",\n          \"4,793.45\",\n          \"4,476.90\"\n        ],\n        \"semantic_type\": \"\",\n        \"description\": \"\"\n      }\n    },\n    {\n      \"column\": \"Close\",\n      \"properties\": {\n        \"dtype\": \"string\",\n        \"num_unique_values\": 247,\n        \"samples\": [\n          \"5,130.25\",\n          \"4,877.30\",\n          \"5,074.60\"\n        ],\n        \"semantic_type\": \"\",\n        \"description\": \"\"\n      }\n    },\n    {\n      \"column\": \"Volume\",\n      \"properties\": {\n        \"dtype\": \"string\",\n        \"num_unique_values\": 246,\n        \"samples\": [\n          \"15,614\",\n          \"3,543\",\n          \"4,887\"\n        ],\n        \"semantic_type\": \"\",\n        \"description\": \"\"\n      }\n    }\n  ]\n}"
            }
          },
          "metadata": {},
          "execution_count": 11
        }
      ]
    },
    {
      "cell_type": "markdown",
      "source": [
        "Removing the commas and coverting it to datetime frame format\n"
      ],
      "metadata": {
        "id": "qdfawse2BICt"
      }
    },
    {
      "cell_type": "code",
      "source": [
        "# Convert 'Date' column to datetime\n",
        "Britannia['Date'] = pd.to_datetime(Britannia['Date'], format='%m/%d/%Y')"
      ],
      "metadata": {
        "id": "wiCwngvmBPD6"
      },
      "execution_count": 14,
      "outputs": []
    },
    {
      "cell_type": "code",
      "source": [
        "# Remove commas from numeric columns and convert to appropriate types\n",
        "Britannia['Open'] = Britannia['Open'].str.replace(',', '').astype(float)\n",
        "Britannia['High'] = Britannia['High'].str.replace(',', '').astype(float)\n",
        "Britannia['Low'] = Britannia['Low'].str.replace(',', '').astype(float)\n",
        "Britannia['Close'] = Britannia['Close'].str.replace(',', '').astype(float)\n",
        "Britannia['Volume'] = Britannia['Volume'].str.replace(',', '').astype(int)\n",
        "\n",
        "# Display the DataFrame to verify\n",
        "print(Britannia.head())\n"
      ],
      "metadata": {
        "colab": {
          "base_uri": "https://localhost:8080/"
        },
        "id": "3QPoZT-rBxJp",
        "outputId": "c3fe34ab-64d9-42ea-e172-68e5573fcf6a"
      },
      "execution_count": 15,
      "outputs": [
        {
          "output_type": "stream",
          "name": "stdout",
          "text": [
            "        Date     Open     High      Low    Close  Volume\n",
            "0 2024-03-15  4938.05  5008.55  4919.15  4976.25   10425\n",
            "1 2024-03-14  4826.05  4953.95  4786.45  4938.50    4351\n",
            "2 2024-03-13  4868.60  4975.00  4824.35  4857.50    6009\n",
            "3 2024-03-12  4937.20  4937.20  4852.45  4868.25    2049\n",
            "4 2024-03-11  4887.30  4956.00  4874.95  4936.75    2557\n"
          ]
        }
      ]
    },
    {
      "cell_type": "code",
      "source": [
        "# exploring the data\n",
        "\n",
        "print(f'dataframe contains stock prices between {Britannia.Date.min()} {Britannia.Date.max()}')\n",
        "print(f'total days = {(Britannia.Date.max()  - Britannia.Date.min()).days} days')"
      ],
      "metadata": {
        "colab": {
          "base_uri": "https://localhost:8080/"
        },
        "id": "BDIPNOQl6Jl5",
        "outputId": "041db78b-549e-44b9-83c8-6e94bd4c0ce7"
      },
      "execution_count": 17,
      "outputs": [
        {
          "output_type": "stream",
          "name": "stdout",
          "text": [
            "dataframe contains stock prices between 2023-03-15 00:00:00 2024-03-15 00:00:00\n",
            "total days = 366 days\n"
          ]
        }
      ]
    },
    {
      "cell_type": "code",
      "source": [
        "import seaborn as sns\n",
        "# Setting up the layout for visualization\n",
        "plt.figure(figsize=(16, 10))\n",
        "\n",
        "# Plotting boxplots for each numeric column\n",
        "numeric_columns = ['Open', 'High', 'Low', 'Close', 'Volume']\n",
        "for i, column in enumerate(numeric_columns, 1):\n",
        "    plt.subplot(2, 3, i)  # 2 rows, 3 columns layout\n",
        "    sns.boxplot(data=Britannia[column])\n",
        "    plt.title(f'Boxplot of {column}')\n",
        "\n",
        "# Adjust layout to prevent overlap\n",
        "plt.tight_layout()\n",
        "plt.show()"
      ],
      "metadata": {
        "colab": {
          "base_uri": "https://localhost:8080/",
          "height": 418
        },
        "id": "43ngPNdmAW7m",
        "outputId": "58f6a87c-8c3e-4b47-9c48-577a2b700887"
      },
      "execution_count": 19,
      "outputs": [
        {
          "output_type": "display_data",
          "data": {
            "text/plain": [
              "<Figure size 1600x1000 with 5 Axes>"
            ],
            "image/png": "[encoded data removed]"
          },
          "metadata": {}
        }
      ]
    },
    {
      "cell_type": "code",
      "source": [
        "!pip install plotly"
      ],
      "metadata": {
        "colab": {
          "base_uri": "https://localhost:8080/"
        },
        "id": "tKGxfhmiDT_L",
        "outputId": "f146470e-2200-4f3a-d4ab-7f989f94c228"
      },
      "execution_count": 21,
      "outputs": [
        {
          "output_type": "stream",
          "name": "stdout",
          "text": [
            "Requirement already satisfied: plotly in /usr/local/lib/python3.10/dist-packages (5.15.0)\n",
            "Requirement already satisfied: tenacity>=6.2.0 in /usr/local/lib/python3.10/dist-packages (from plotly) (8.3.0)\n",
            "Requirement already satisfied: packaging in /usr/local/lib/python3.10/dist-packages (from plotly) (24.0)\n"
          ]
        }
      ]
    },
    {
      "cell_type": "code",
      "source": [
        "import plotly.express as px\n",
        "\n",
        "# Create the plot\n",
        "fig = px.line(Britannia, x='Date', y='Close', title='Stock Prices of Britannia', labels={\n",
        "    'Date': 'Year',\n",
        "    'Close': 'Price'\n",
        "})\n",
        "\n",
        "# Customize layout\n",
        "fig.update_layout(\n",
        "    xaxis_title='Year',\n",
        "    yaxis_title='Price',\n",
        "    title={\n",
        "        'text': 'Stock Prices of Britannia',\n",
        "        'y':0.9,\n",
        "        'x':0.5,\n",
        "        'xanchor': 'center',\n",
        "        'yanchor': 'top'\n",
        "    },\n",
        "    width=500,\n",
        "    height=500\n",
        ")\n",
        "\n",
        "# Show the plot\n",
        "fig.show()"
      ],
      "metadata": {
        "colab": {
          "base_uri": "https://localhost:8080/",
          "height": 517
        },
        "id": "vL6XHp4WDave",
        "outputId": "fddc62aa-3b91-4f95-e7a4-c77bda33802f"
      },
      "execution_count": 39,
      "outputs": [
        {
          "output_type": "display_data",
          "data": {
            "application/vnd.plotly.v1+json": {
              "data": [
                {
                  "hovertemplate": "Year=%{x}<br>Price=%{y}<extra></extra>",
                  "legendgroup": "",
                  "line": {
                    "color": "#636efa",
                    "dash": "solid"
                  },
                  "marker": {
                    "symbol": "circle"
                  },
                  "mode": "lines",
                  "name": "",
                  "orientation": "v",
                  "showlegend": false,
                  "x": [
                    "2024-03-15T00:00:00",
                    "2024-03-14T00:00:00",
                    "2024-03-13T00:00:00",
                    "2024-03-12T00:00:00",
                    "2024-03-11T00:00:00",
                    "2024-03-07T00:00:00",
                    "2024-03-06T00:00:00",
                    "2024-03-05T00:00:00",
                    "2024-03-04T00:00:00",
                    "2024-03-01T00:00:00",
                    "2024-02-29T00:00:00",
                    "2024-02-28T00:00:00",
                    "2024-02-27T00:00:00",
                    "2024-02-26T00:00:00",
                    "2024-02-23T00:00:00",
                    "2024-02-22T00:00:00",
                    "2024-02-21T00:00:00",
                    "2024-02-20T00:00:00",
                    "2024-02-19T00:00:00",
                    "2024-02-16T00:00:00",
                    "2024-02-15T00:00:00",
                    "2024-02-14T00:00:00",
                    "2024-02-13T00:00:00",
                    "2024-02-12T00:00:00",
                    "2024-02-09T00:00:00",
                    "2024-02-08T00:00:00",
                    "2024-02-07T00:00:00",
                    "2024-02-06T00:00:00",
                    "2024-02-05T00:00:00",
                    "2024-02-02T00:00:00",
                    "2024-02-01T00:00:00",
                    "2024-01-31T00:00:00",
                    "2024-01-30T00:00:00",
                    "2024-01-29T00:00:00",
                    "2024-01-25T00:00:00",
                    "2024-01-24T00:00:00",
                    "2024-01-23T00:00:00",
                    "2024-01-19T00:00:00",
                    "2024-01-18T00:00:00",
                    "2024-01-17T00:00:00",
                    "2024-01-16T00:00:00",
                    "2024-01-15T00:00:00",
                    "2024-01-12T00:00:00",
                    "2024-01-11T00:00:00",
                    "2024-01-10T00:00:00",
                    "2024-01-09T00:00:00",
                    "2024-01-08T00:00:00",
                    "2024-01-05T00:00:00",
                    "2024-01-04T00:00:00",
                    "2024-01-03T00:00:00",
                    "2024-01-02T00:00:00",
                    "2024-01-01T00:00:00",
                    "2023-12-29T00:00:00",
                    "2023-12-28T00:00:00",
                    "2023-12-27T00:00:00",
                    "2023-12-26T00:00:00",
                    "2023-12-22T00:00:00",
                    "2023-12-21T00:00:00",
                    "2023-12-20T00:00:00",
                    "2023-12-19T00:00:00",
                    "2023-12-18T00:00:00",
                    "2023-12-15T00:00:00",
                    "2023-12-14T00:00:00",
                    "2023-12-13T00:00:00",
                    "2023-12-12T00:00:00",
                    "2023-12-11T00:00:00",
                    "2023-12-08T00:00:00",
                    "2023-12-07T00:00:00",
                    "2023-12-06T00:00:00",
                    "2023-12-05T00:00:00",
                    "2023-12-04T00:00:00",
                    "2023-12-01T00:00:00",
                    "2023-11-30T00:00:00",
                    "2023-11-29T00:00:00",
                    "2023-11-28T00:00:00",
                    "2023-11-24T00:00:00",
                    "2023-11-23T00:00:00",
                    "2023-11-22T00:00:00",
                    "2023-11-21T00:00:00",
                    "2023-11-20T00:00:00",
                    "2023-11-17T00:00:00",
                    "2023-11-16T00:00:00",
                    "2023-11-15T00:00:00",
                    "2023-11-13T00:00:00",
                    "2023-11-10T00:00:00",
                    "2023-11-09T00:00:00",
                    "2023-11-08T00:00:00",
                    "2023-11-07T00:00:00",
                    "2023-11-06T00:00:00",
                    "2023-11-03T00:00:00",
                    "2023-11-02T00:00:00",
                    "2023-11-01T00:00:00",
                    "2023-10-31T00:00:00",
                    "2023-10-30T00:00:00",
                    "2023-10-27T00:00:00",
                    "2023-10-26T00:00:00",
                    "2023-10-25T00:00:00",
                    "2023-10-23T00:00:00",
                    "2023-10-20T00:00:00",
                    "2023-10-19T00:00:00",
                    "2023-10-18T00:00:00",
                    "2023-10-17T00:00:00",
                    "2023-10-16T00:00:00",
                    "2023-10-13T00:00:00",
                    "2023-10-12T00:00:00",
                    "2023-10-11T00:00:00",
                    "2023-10-10T00:00:00",
                    "2023-10-09T00:00:00",
                    "2023-10-06T00:00:00",
                    "2023-10-05T00:00:00",
                    "2023-10-04T00:00:00",
                    "2023-10-03T00:00:00",
                    "2023-09-29T00:00:00",
                    "2023-09-28T00:00:00",
                    "2023-09-27T00:00:00",
                    "2023-09-26T00:00:00",
                    "2023-09-25T00:00:00",
                    "2023-09-22T00:00:00",
                    "2023-09-21T00:00:00",
                    "2023-09-20T00:00:00",
                    "2023-09-18T00:00:00",
                    "2023-09-15T00:00:00",
                    "2023-09-14T00:00:00",
                    "2023-09-13T00:00:00",
                    "2023-09-12T00:00:00",
                    "2023-09-11T00:00:00",
                    "2023-09-08T00:00:00",
                    "2023-09-07T00:00:00",
                    "2023-09-06T00:00:00",
                    "2023-09-05T00:00:00",
                    "2023-09-04T00:00:00",
                    "2023-09-01T00:00:00",
                    "2023-08-31T00:00:00",
                    "2023-08-30T00:00:00",
                    "2023-08-29T00:00:00",
                    "2023-08-28T00:00:00",
                    "2023-08-25T00:00:00",
                    "2023-08-24T00:00:00",
                    "2023-08-23T00:00:00",
                    "2023-08-22T00:00:00",
                    "2023-08-21T00:00:00",
                    "2023-08-18T00:00:00",
                    "2023-08-17T00:00:00",
                    "2023-08-16T00:00:00",
                    "2023-08-14T00:00:00",
                    "2023-08-11T00:00:00",
                    "2023-08-10T00:00:00",
                    "2023-08-09T00:00:00",
                    "2023-08-08T00:00:00",
                    "2023-08-07T00:00:00",
                    "2023-08-04T00:00:00",
                    "2023-08-03T00:00:00",
                    "2023-08-02T00:00:00",
                    "2023-08-01T00:00:00",
                    "2023-07-31T00:00:00",
                    "2023-07-28T00:00:00",
                    "2023-07-27T00:00:00",
                    "2023-07-26T00:00:00",
                    "2023-07-25T00:00:00",
                    "2023-07-24T00:00:00",
                    "2023-07-21T00:00:00",
                    "2023-07-20T00:00:00",
                    "2023-07-19T00:00:00",
                    "2023-07-18T00:00:00",
                    "2023-07-17T00:00:00",
                    "2023-07-14T00:00:00",
                    "2023-07-13T00:00:00",
                    "2023-07-12T00:00:00",
                    "2023-07-11T00:00:00",
                    "2023-07-10T00:00:00",
                    "2023-07-07T00:00:00",
                    "2023-07-06T00:00:00",
                    "2023-07-05T00:00:00",
                    "2023-07-04T00:00:00",
                    "2023-07-03T00:00:00",
                    "2023-06-30T00:00:00",
                    "2023-06-28T00:00:00",
                    "2023-06-27T00:00:00",
                    "2023-06-26T00:00:00",
                    "2023-06-23T00:00:00",
                    "2023-06-22T00:00:00",
                    "2023-06-21T00:00:00",
                    "2023-06-20T00:00:00",
                    "2023-06-19T00:00:00",
                    "2023-06-16T00:00:00",
                    "2023-06-15T00:00:00",
                    "2023-06-14T00:00:00",
                    "2023-06-13T00:00:00",
                    "2023-06-12T00:00:00",
                    "2023-06-09T00:00:00",
                    "2023-06-08T00:00:00",
                    "2023-06-07T00:00:00",
                    "2023-06-06T00:00:00",
                    "2023-06-05T00:00:00",
                    "2023-06-02T00:00:00",
                    "2023-06-01T00:00:00",
                    "2023-05-31T00:00:00",
                    "2023-05-30T00:00:00",
                    "2023-05-29T00:00:00",
                    "2023-05-26T00:00:00",
                    "2023-05-25T00:00:00",
                    "2023-05-24T00:00:00",
                    "2023-05-23T00:00:00",
                    "2023-05-22T00:00:00",
                    "2023-05-19T00:00:00",
                    "2023-05-18T00:00:00",
                    "2023-05-17T00:00:00",
                    "2023-05-16T00:00:00",
                    "2023-05-15T00:00:00",
                    "2023-05-12T00:00:00",
                    "2023-05-11T00:00:00",
                    "2023-05-10T00:00:00",
                    "2023-05-09T00:00:00",
                    "2023-05-08T00:00:00",
                    "2023-05-05T00:00:00",
                    "2023-05-04T00:00:00",
                    "2023-05-03T00:00:00",
                    "2023-05-02T00:00:00",
                    "2023-04-28T00:00:00",
                    "2023-04-27T00:00:00",
                    "2023-04-26T00:00:00",
                    "2023-04-25T00:00:00",
                    "2023-04-24T00:00:00",
                    "2023-04-21T00:00:00",
                    "2023-04-20T00:00:00",
                    "2023-04-19T00:00:00",
                    "2023-04-18T00:00:00",
                    "2023-04-17T00:00:00",
                    "2023-04-13T00:00:00",
                    "2023-04-12T00:00:00",
                    "2023-04-11T00:00:00",
                    "2023-04-10T00:00:00",
                    "2023-04-06T00:00:00",
                    "2023-04-05T00:00:00",
                    "2023-04-03T00:00:00",
                    "2023-03-31T00:00:00",
                    "2023-03-29T00:00:00",
                    "2023-03-28T00:00:00",
                    "2023-03-27T00:00:00",
                    "2023-03-24T00:00:00",
                    "2023-03-23T00:00:00",
                    "2023-03-22T00:00:00",
                    "2023-03-21T00:00:00",
                    "2023-03-20T00:00:00",
                    "2023-03-17T00:00:00",
                    "2023-03-16T00:00:00",
                    "2023-03-15T00:00:00"
                  ],
                  "xaxis": "x",
                  "y": [
                    4976.25,
                    4938.5,
                    4857.5,
                    4868.25,
                    4936.75,
                    4887.3,
                    4877.3,
                    4824.8,
                    4840.7,
                    4925.3,
                    4961.35,
                    4887.2,
                    4904.55,
                    4900.55,
                    4938.35,
                    4957.3,
                    4923.15,
                    4923.65,
                    4924.1,
                    4914.15,
                    4949.7,
                    5009.25,
                    4980.45,
                    4969.25,
                    4970.35,
                    4871.1,
                    5077.05,
                    5006.2,
                    5120.7,
                    5146.6,
                    5148,
                    5200.15,
                    5089.3,
                    5130.25,
                    5144.6,
                    5140.7,
                    5049.75,
                    5141.05,
                    5014.25,
                    5064.65,
                    5127.85,
                    5177.25,
                    5148.9,
                    5140.2,
                    5086.85,
                    5115.15,
                    5178.15,
                    5271.95,
                    5362.9,
                    5252.95,
                    5288.15,
                    5315.8,
                    5338.95,
                    5261.1,
                    5207.2,
                    5236.45,
                    5159.4,
                    5056.15,
                    4955.3,
                    4909.95,
                    4878.4,
                    4915.65,
                    4946.15,
                    4921.4,
                    4897,
                    4938.15,
                    4944.35,
                    5018.1,
                    5004.5,
                    4947.7,
                    4936.5,
                    4969.3,
                    4850.9,
                    4802.15,
                    4716.6,
                    4642.85,
                    4706.1,
                    4691.15,
                    4697.05,
                    4712.25,
                    4718,
                    4696.65,
                    4711.8,
                    4696.2,
                    4684.6,
                    4645.65,
                    4669,
                    4659.1,
                    4619.7,
                    4548.05,
                    4528.9,
                    4400.8,
                    4422.85,
                    4463.1,
                    4510.5,
                    4510.85,
                    4527.85,
                    4528.05,
                    4577.35,
                    4604.2,
                    4603.6,
                    4602,
                    4583.6,
                    4580.05,
                    4559.35,
                    4554,
                    4530.2,
                    4523.95,
                    4537.55,
                    4529.55,
                    4532.85,
                    4498.6,
                    4537,
                    4522.1,
                    4627.6,
                    4602.9,
                    4569.9,
                    4562.25,
                    4556.35,
                    4530.15,
                    4596.35,
                    4531.95,
                    4573.85,
                    4608.55,
                    4566.95,
                    4565.5,
                    4540.45,
                    4529.6,
                    4569.35,
                    4515.6,
                    4505.1,
                    4485.05,
                    4471.35,
                    4549.2,
                    4526,
                    4510.7,
                    4525.55,
                    4544.2,
                    4509.05,
                    4509.95,
                    4509.45,
                    4535.65,
                    4502.85,
                    4498.7,
                    4500,
                    4511.3,
                    4539.35,
                    4602.5,
                    4604.05,
                    4659.65,
                    4798.25,
                    4790.05,
                    4809.75,
                    4818,
                    4793.6,
                    4903.5,
                    4875.5,
                    4984.35,
                    4885.25,
                    4969.85,
                    5045,
                    5051.05,
                    5063,
                    5062.4,
                    5130.9,
                    5146,
                    5091.9,
                    5071.8,
                    5080.75,
                    5030.7,
                    5056.8,
                    5168.75,
                    5096.1,
                    5008.1,
                    5006.3,
                    5022.45,
                    4993.65,
                    4955.2,
                    4999.75,
                    4971,
                    4990.1,
                    5074.6,
                    5054.25,
                    5016.1,
                    5045.25,
                    4973.6,
                    4934.2,
                    4939.75,
                    4899.3,
                    4877.7,
                    4875.15,
                    4893.1,
                    4702.8,
                    4687.65,
                    4656.25,
                    4630.65,
                    4657.25,
                    4571.75,
                    4573.15,
                    4596.9,
                    4564.55,
                    4518.05,
                    4520.15,
                    4497.6,
                    4501,
                    4566.5,
                    4630.3,
                    4606.45,
                    4628.95,
                    4617.65,
                    4627,
                    4605.8,
                    4596.15,
                    4600,
                    4623.9,
                    4584.75,
                    4530.3,
                    4509.3,
                    4554.25,
                    4413.2,
                    4404.4,
                    4402.6,
                    4314.5,
                    4327.25,
                    4255.85,
                    4297.55,
                    4301.95,
                    4335.35,
                    4262.05,
                    4268.4,
                    4272.85,
                    4265.9,
                    4299.75,
                    4328.25,
                    4320.45,
                    4322,
                    4275.9,
                    4199.35,
                    4211.55,
                    4195.65,
                    4243.5,
                    4245.35,
                    4264.1,
                    4328.55,
                    4362.05,
                    4313.05,
                    4244.2
                  ],
                  "yaxis": "y",
                  "type": "scatter"
                }
              ],
              "layout": {
                "template": {
                  "data": {
                    "histogram2dcontour": [
                      {
                        "type": "histogram2dcontour",
                        "colorbar": {
                          "outlinewidth": 0,
                          "ticks": ""
                        },
                        "colorscale": [
                          [
                            0,
                            "#0d0887"
                          ],
                          [
                            0.1111111111111111,
                            "#46039f"
                          ],
                          [
                            0.2222222222222222,
                            "#7201a8"
                          ],
                          [
                            0.3333333333333333,
                            "#9c179e"
                          ],
                          [
                            0.4444444444444444,
                            "#bd3786"
                          ],
                          [
                            0.5555555555555556,
                            "#d8576b"
                          ],
                          [
                            0.6666666666666666,
                            "#ed7953"
                          ],
                          [
                            0.7777777777777778,
                            "#fb9f3a"
                          ],
                          [
                            0.8888888888888888,
                            "#fdca26"
                          ],
                          [
                            1,
                            "#f0f921"
                          ]
                        ]
                      }
                    ],
                    "choropleth": [
                      {
                        "type": "choropleth",
                        "colorbar": {
                          "outlinewidth": 0,
                          "ticks": ""
                        }
                      }
                    ],
                    "histogram2d": [
                      {
                        "type": "histogram2d",
                        "colorbar": {
                          "outlinewidth": 0,
                          "ticks": ""
                        },
                        "colorscale": [
                          [
                            0,
                            "#0d0887"
                          ],
                          [
                            0.1111111111111111,
                            "#46039f"
                          ],
                          [
                            0.2222222222222222,
                            "#7201a8"
                          ],
                          [
                            0.3333333333333333,
                            "#9c179e"
                          ],
                          [
                            0.4444444444444444,
                            "#bd3786"
                          ],
                          [
                            0.5555555555555556,
                            "#d8576b"
                          ],
                          [
                            0.6666666666666666,
                            "#ed7953"
                          ],
                          [
                            0.7777777777777778,
                            "#fb9f3a"
                          ],
                          [
                            0.8888888888888888,
                            "#fdca26"
                          ],
                          [
                            1,
                            "#f0f921"
                          ]
                        ]
                      }
                    ],
                    "heatmap": [
                      {
                        "type": "heatmap",
                        "colorbar": {
                          "outlinewidth": 0,
                          "ticks": ""
                        },
                        "colorscale": [
                          [
                            0,
                            "#0d0887"
                          ],
                          [
                            0.1111111111111111,
                            "#46039f"
                          ],
                          [
                            0.2222222222222222,
                            "#7201a8"
                          ],
                          [
                            0.3333333333333333,
                            "#9c179e"
                          ],
                          [
                            0.4444444444444444,
                            "#bd3786"
                          ],
                          [
                            0.5555555555555556,
                            "#d8576b"
                          ],
                          [
                            0.6666666666666666,
                            "#ed7953"
                          ],
                          [
                            0.7777777777777778,
                            "#fb9f3a"
                          ],
                          [
                            0.8888888888888888,
                            "#fdca26"
                          ],
                          [
                            1,
                            "#f0f921"
                          ]
                        ]
                      }
                    ],
                    "heatmapgl": [
                      {
                        "type": "heatmapgl",
                        "colorbar": {
                          "outlinewidth": 0,
                          "ticks": ""
                        },
                        "colorscale": [
                          [
                            0,
                            "#0d0887"
                          ],
                          [
                            0.1111111111111111,
                            "#46039f"
                          ],
                          [
                            0.2222222222222222,
                            "#7201a8"
                          ],
                          [
                            0.3333333333333333,
                            "#9c179e"
                          ],
                          [
                            0.4444444444444444,
                            "#bd3786"
                          ],
                          [
                            0.5555555555555556,
                            "#d8576b"
                          ],
                          [
                            0.6666666666666666,
                            "#ed7953"
                          ],
                          [
                            0.7777777777777778,
                            "#fb9f3a"
                          ],
                          [
                            0.8888888888888888,
                            "#fdca26"
                          ],
                          [
                            1,
                            "#f0f921"
                          ]
                        ]
                      }
                    ],
                    "contourcarpet": [
                      {
                        "type": "contourcarpet",
                        "colorbar": {
                          "outlinewidth": 0,
                          "ticks": ""
                        }
                      }
                    ],
                    "contour": [
                      {
                        "type": "contour",
                        "colorbar": {
                          "outlinewidth": 0,
                          "ticks": ""
                        },
                        "colorscale": [
                          [
                            0,
                            "#0d0887"
                          ],
                          [
                            0.1111111111111111,
                            "#46039f"
                          ],
                          [
                            0.2222222222222222,
                            "#7201a8"
                          ],
                          [
                            0.3333333333333333,
                            "#9c179e"
                          ],
                          [
                            0.4444444444444444,
                            "#bd3786"
                          ],
                          [
                            0.5555555555555556,
                            "#d8576b"
                          ],
                          [
                            0.6666666666666666,
                            "#ed7953"
                          ],
                          [
                            0.7777777777777778,
                            "#fb9f3a"
                          ],
                          [
                            0.8888888888888888,
                            "#fdca26"
                          ],
                          [
                            1,
                            "#f0f921"
                          ]
                        ]
                      }
                    ],
                    "surface": [
                      {
                        "type": "surface",
                        "colorbar": {
                          "outlinewidth": 0,
                          "ticks": ""
                        },
                        "colorscale": [
                          [
                            0,
                            "#0d0887"
                          ],
                          [
                            0.1111111111111111,
                            "#46039f"
                          ],
                          [
                            0.2222222222222222,
                            "#7201a8"
                          ],
                          [
                            0.3333333333333333,
                            "#9c179e"
                          ],
                          [
                            0.4444444444444444,
                            "#bd3786"
                          ],
                          [
                            0.5555555555555556,
                            "#d8576b"
                          ],
                          [
                            0.6666666666666666,
                            "#ed7953"
                          ],
                          [
                            0.7777777777777778,
                            "#fb9f3a"
                          ],
                          [
                            0.8888888888888888,
                            "#fdca26"
                          ],
                          [
                            1,
                            "#f0f921"
                          ]
                        ]
                      }
                    ],
                    "mesh3d": [
                      {
                        "type": "mesh3d",
                        "colorbar": {
                          "outlinewidth": 0,
                          "ticks": ""
                        }
                      }
                    ],
                    "scatter": [
                      {
                        "fillpattern": {
                          "fillmode": "overlay",
                          "size": 10,
                          "solidity": 0.2
                        },
                        "type": "scatter"
                      }
                    ],
                    "parcoords": [
                      {
                        "type": "parcoords",
                        "line": {
                          "colorbar": {
                            "outlinewidth": 0,
                            "ticks": ""
                          }
                        }
                      }
                    ],
                    "scatterpolargl": [
                      {
                        "type": "scatterpolargl",
                        "marker": {
                          "colorbar": {
                            "outlinewidth": 0,
                            "ticks": ""
                          }
                        }
                      }
                    ],
                    "bar": [
                      {
                        "error_x": {
                          "color": "#2a3f5f"
                        },
                        "error_y": {
                          "color": "#2a3f5f"
                        },
                        "marker": {
                          "line": {
                            "color": "#E5ECF6",
                            "width": 0.5
                          },
                          "pattern": {
                            "fillmode": "overlay",
                            "size": 10,
                            "solidity": 0.2
                          }
                        },
                        "type": "bar"
                      }
                    ],
                    "scattergeo": [
                      {
                        "type": "scattergeo",
                        "marker": {
                          "colorbar": {
                            "outlinewidth": 0,
                            "ticks": ""
                          }
                        }
                      }
                    ],
                    "scatterpolar": [
                      {
                        "type": "scatterpolar",
                        "marker": {
                          "colorbar": {
                            "outlinewidth": 0,
                            "ticks": ""
                          }
                        }
                      }
                    ],
                    "histogram": [
                      {
                        "marker": {
                          "pattern": {
                            "fillmode": "overlay",
                            "size": 10,
                            "solidity": 0.2
                          }
                        },
                        "type": "histogram"
                      }
                    ],
                    "scattergl": [
                      {
                        "type": "scattergl",
                        "marker": {
                          "colorbar": {
                            "outlinewidth": 0,
                            "ticks": ""
                          }
                        }
                      }
                    ],
                    "scatter3d": [
                      {
                        "type": "scatter3d",
                        "line": {
                          "colorbar": {
                            "outlinewidth": 0,
                            "ticks": ""
                          }
                        },
                        "marker": {
                          "colorbar": {
                            "outlinewidth": 0,
                            "ticks": ""
                          }
                        }
                      }
                    ],
                    "scattermapbox": [
                      {
                        "type": "scattermapbox",
                        "marker": {
                          "colorbar": {
                            "outlinewidth": 0,
                            "ticks": ""
                          }
                        }
                      }
                    ],
                    "scatterternary": [
                      {
                        "type": "scatterternary",
                        "marker": {
                          "colorbar": {
                            "outlinewidth": 0,
                            "ticks": ""
                          }
                        }
                      }
                    ],
                    "scattercarpet": [
                      {
                        "type": "scattercarpet",
                        "marker": {
                          "colorbar": {
                            "outlinewidth": 0,
                            "ticks": ""
                          }
                        }
                      }
                    ],
                    "carpet": [
                      {
                        "aaxis": {
                          "endlinecolor": "#2a3f5f",
                          "gridcolor": "white",
                          "linecolor": "white",
                          "minorgridcolor": "white",
                          "startlinecolor": "#2a3f5f"
                        },
                        "baxis": {
                          "endlinecolor": "#2a3f5f",
                          "gridcolor": "white",
                          "linecolor": "white",
                          "minorgridcolor": "white",
                          "startlinecolor": "#2a3f5f"
                        },
                        "type": "carpet"
                      }
                    ],
                    "table": [
                      {
                        "cells": {
                          "fill": {
                            "color": "#EBF0F8"
                          },
                          "line": {
                            "color": "white"
                          }
                        },
                        "header": {
                          "fill": {
                            "color": "#C8D4E3"
                          },
                          "line": {
                            "color": "white"
                          }
                        },
                        "type": "table"
                      }
                    ],
                    "barpolar": [
                      {
                        "marker": {
                          "line": {
                            "color": "#E5ECF6",
                            "width": 0.5
                          },
                          "pattern": {
                            "fillmode": "overlay",
                            "size": 10,
                            "solidity": 0.2
                          }
                        },
                        "type": "barpolar"
                      }
                    ],
                    "pie": [
                      {
                        "automargin": true,
                        "type": "pie"
                      }
                    ]
                  },
                  "layout": {
                    "autotypenumbers": "strict",
                    "colorway": [
                      "#636efa",
                      "#EF553B",
                      "#00cc96",
                      "#ab63fa",
                      "#FFA15A",
                      "#19d3f3",
                      "#FF6692",
                      "#B6E880",
                      "#FF97FF",
                      "#FECB52"
                    ],
                    "font": {
                      "color": "#2a3f5f"
                    },
                    "hovermode": "closest",
                    "hoverlabel": {
                      "align": "left"
                    },
                    "paper_bgcolor": "white",
                    "plot_bgcolor": "#E5ECF6",
                    "polar": {
                      "bgcolor": "#E5ECF6",
                      "angularaxis": {
                        "gridcolor": "white",
                        "linecolor": "white",
                        "ticks": ""
                      },
                      "radialaxis": {
                        "gridcolor": "white",
                        "linecolor": "white",
                        "ticks": ""
                      }
                    },
                    "ternary": {
                      "bgcolor": "#E5ECF6",
                      "aaxis": {
                        "gridcolor": "white",
                        "linecolor": "white",
                        "ticks": ""
                      },
                      "baxis": {
                        "gridcolor": "white",
                        "linecolor": "white",
                        "ticks": ""
                      },
                      "caxis": {
                        "gridcolor": "white",
                        "linecolor": "white",
                        "ticks": ""
                      }
                    },
                    "coloraxis": {
                      "colorbar": {
                        "outlinewidth": 0,
                        "ticks": ""
                      }
                    },
                    "colorscale": {
                      "sequential": [
                        [
                          0,
                          "#0d0887"
                        ],
                        [
                          0.1111111111111111,
                          "#46039f"
                        ],
                        [
                          0.2222222222222222,
                          "#7201a8"
                        ],
                        [
                          0.3333333333333333,
                          "#9c179e"
                        ],
                        [
                          0.4444444444444444,
                          "#bd3786"
                        ],
                        [
                          0.5555555555555556,
                          "#d8576b"
                        ],
                        [
                          0.6666666666666666,
                          "#ed7953"
                        ],
                        [
                          0.7777777777777778,
                          "#fb9f3a"
                        ],
                        [
                          0.8888888888888888,
                          "#fdca26"
                        ],
                        [
                          1,
                          "#f0f921"
                        ]
                      ],
                      "sequentialminus": [
                        [
                          0,
                          "#0d0887"
                        ],
                        [
                          0.1111111111111111,
                          "#46039f"
                        ],
                        [
                          0.2222222222222222,
                          "#7201a8"
                        ],
                        [
                          0.3333333333333333,
                          "#9c179e"
                        ],
                        [
                          0.4444444444444444,
                          "#bd3786"
                        ],
                        [
                          0.5555555555555556,
                          "#d8576b"
                        ],
                        [
                          0.6666666666666666,
                          "#ed7953"
                        ],
                        [
                          0.7777777777777778,
                          "#fb9f3a"
                        ],
                        [
                          0.8888888888888888,
                          "#fdca26"
                        ],
                        [
                          1,
                          "#f0f921"
                        ]
                      ],
                      "diverging": [
                        [
                          0,
                          "#8e0152"
                        ],
                        [
                          0.1,
                          "#c51b7d"
                        ],
                        [
                          0.2,
                          "#de77ae"
                        ],
                        [
                          0.3,
                          "#f1b6da"
                        ],
                        [
                          0.4,
                          "#fde0ef"
                        ],
                        [
                          0.5,
                          "#f7f7f7"
                        ],
                        [
                          0.6,
                          "#e6f5d0"
                        ],
                        [
                          0.7,
                          "#b8e186"
                        ],
                        [
                          0.8,
                          "#7fbc41"
                        ],
                        [
                          0.9,
                          "#4d9221"
                        ],
                        [
                          1,
                          "#276419"
                        ]
                      ]
                    },
                    "xaxis": {
                      "gridcolor": "white",
                      "linecolor": "white",
                      "ticks": "",
                      "title": {
                        "standoff": 15
                      },
                      "zerolinecolor": "white",
                      "automargin": true,
                      "zerolinewidth": 2
                    },
                    "yaxis": {
                      "gridcolor": "white",
                      "linecolor": "white",
                      "ticks": "",
                      "title": {
                        "standoff": 15
                      },
                      "zerolinecolor": "white",
                      "automargin": true,
                      "zerolinewidth": 2
                    },
                    "scene": {
                      "xaxis": {
                        "backgroundcolor": "#E5ECF6",
                        "gridcolor": "white",
                        "linecolor": "white",
                        "showbackground": true,
                        "ticks": "",
                        "zerolinecolor": "white",
                        "gridwidth": 2
                      },
                      "yaxis": {
                        "backgroundcolor": "#E5ECF6",
                        "gridcolor": "white",
                        "linecolor": "white",
                        "showbackground": true,
                        "ticks": "",
                        "zerolinecolor": "white",
                        "gridwidth": 2
                      },
                      "zaxis": {
                        "backgroundcolor": "#E5ECF6",
                        "gridcolor": "white",
                        "linecolor": "white",
                        "showbackground": true,
                        "ticks": "",
                        "zerolinecolor": "white",
                        "gridwidth": 2
                      }
                    },
                    "shapedefaults": {
                      "line": {
                        "color": "#2a3f5f"
                      }
                    },
                    "annotationdefaults": {
                      "arrowcolor": "#2a3f5f",
                      "arrowhead": 0,
                      "arrowwidth": 1
                    },
                    "geo": {
                      "bgcolor": "white",
                      "landcolor": "#E5ECF6",
                      "subunitcolor": "white",
                      "showland": true,
                      "showlakes": true,
                      "lakecolor": "white"
                    },
                    "title": {
                      "x": 0.05
                    },
                    "mapbox": {
                      "style": "light"
                    }
                  }
                },
                "xaxis": {
                  "anchor": "y",
                  "domain": [
                    0,
                    1
                  ],
                  "title": {
                    "text": "Year"
                  }
                },
                "yaxis": {
                  "anchor": "x",
                  "domain": [
                    0,
                    1
                  ],
                  "title": {
                    "text": "Price"
                  }
                },
                "legend": {
                  "tracegroupgap": 0
                },
                "title": {
                  "text": "Stock Prices of Britannia",
                  "y": 0.9,
                  "x": 0.5,
                  "xanchor": "center",
                  "yanchor": "top"
                },
                "width": 500,
                "height": 500
              },
              "config": {
                "plotlyServerURL": "https://plot.ly"
              }
            },
            "text/html": [
              "<div>                            <div id=\"174195e0-6ec0-4aed-a011-678e53ed963b\" class=\"plotly-graph-div\" style=\"height:500px; width:500px;\"></div>            <script type=\"text/javascript\">                require([\"plotly\"], function(Plotly) {                    window.PLOTLYENV=window.PLOTLYENV || {};                                    if (document.getElementById(\"174195e0-6ec0-4aed-a011-678e53ed963b\")) {                    Plotly.newPlot(                        \"174195e0-6ec0-4aed-a011-678e53ed963b\",                        [{\"hovertemplate\":\"Year=%{x}\\u003cbr\\u003ePrice=%{y}\\u003cextra\\u003e\\u003c\\u002fextra\\u003e\",\"legendgroup\":\"\",\"line\":{\"color\":\"#636efa\",\"dash\":\"solid\"},\"marker\":{\"symbol\":\"circle\"},\"mode\":\"lines\",\"name\":\"\",\"orientation\":\"v\",\"showlegend\":false,\"x\":[\"2024-03-15T00:00:00\",\"2024-03-14T00:00:00\",\"2024-03-13T00:00:00\",\"2024-03-12T00:00:00\",\"2024-03-11T00:00:00\",\"2024-03-07T00:00:00\",\"2024-03-06T00:00:00\",\"2024-03-05T00:00:00\",\"2024-03-04T00:00:00\",\"2024-03-01T00:00:00\",\"2024-02-29T00:00:00\",\"2024-02-28T00:00:00\",\"2024-02-27T00:00:00\",\"2024-02-26T00:00:00\",\"2024-02-23T00:00:00\",\"2024-02-22T00:00:00\",\"2024-02-21T00:00:00\",\"2024-02-20T00:00:00\",\"2024-02-19T00:00:00\",\"2024-02-16T00:00:00\",\"2024-02-15T00:00:00\",\"2024-02-14T00:00:00\",\"2024-02-13T00:00:00\",\"2024-02-12T00:00:00\",\"2024-02-09T00:00:00\",\"2024-02-08T00:00:00\",\"2024-02-07T00:00:00\",\"2024-02-06T00:00:00\",\"2024-02-05T00:00:00\",\"2024-02-02T00:00:00\",\"2024-02-01T00:00:00\",\"2024-01-31T00:00:00\",\"2024-01-30T00:00:00\",\"2024-01-29T00:00:00\",\"2024-01-25T00:00:00\",\"2024-01-24T00:00:00\",\"2024-01-23T00:00:00\",\"2024-01-19T00:00:00\",\"2024-01-18T00:00:00\",\"2024-01-17T00:00:00\",\"2024-01-16T00:00:00\",\"2024-01-15T00:00:00\",\"2024-01-12T00:00:00\",\"2024-01-11T00:00:00\",\"2024-01-10T00:00:00\",\"2024-01-09T00:00:00\",\"2024-01-08T00:00:00\",\"2024-01-05T00:00:00\",\"2024-01-04T00:00:00\",\"2024-01-03T00:00:00\",\"2024-01-02T00:00:00\",\"2024-01-01T00:00:00\",\"2023-12-29T00:00:00\",\"2023-12-28T00:00:00\",\"2023-12-27T00:00:00\",\"2023-12-26T00:00:00\",\"2023-12-22T00:00:00\",\"2023-12-21T00:00:00\",\"2023-12-20T00:00:00\",\"2023-12-19T00:00:00\",\"2023-12-18T00:00:00\",\"2023-12-15T00:00:00\",\"2023-12-14T00:00:00\",\"2023-12-13T00:00:00\",\"2023-12-12T00:00:00\",\"2023-12-11T00:00:00\",\"2023-12-08T00:00:00\",\"2023-12-07T00:00:00\",\"2023-12-06T00:00:00\",\"2023-12-05T00:00:00\",\"2023-12-04T00:00:00\",\"2023-12-01T00:00:00\",\"2023-11-30T00:00:00\",\"2023-11-29T00:00:00\",\"2023-11-28T00:00:00\",\"2023-11-24T00:00:00\",\"2023-11-23T00:00:00\",\"2023-11-22T00:00:00\",\"2023-11-21T00:00:00\",\"2023-11-20T00:00:00\",\"2023-11-17T00:00:00\",\"2023-11-16T00:00:00\",\"2023-11-15T00:00:00\",\"2023-11-13T00:00:00\",\"2023-11-10T00:00:00\",\"2023-11-09T00:00:00\",\"2023-11-08T00:00:00\",\"2023-11-07T00:00:00\",\"2023-11-06T00:00:00\",\"2023-11-03T00:00:00\",\"2023-11-02T00:00:00\",\"2023-11-01T00:00:00\",\"2023-10-31T00:00:00\",\"2023-10-30T00:00:00\",\"2023-10-27T00:00:00\",\"2023-10-26T00:00:00\",\"2023-10-25T00:00:00\",\"2023-10-23T00:00:00\",\"2023-10-20T00:00:00\",\"2023-10-19T00:00:00\",\"2023-10-18T00:00:00\",\"2023-10-17T00:00:00\",\"2023-10-16T00:00:00\",\"2023-10-13T00:00:00\",\"2023-10-12T00:00:00\",\"2023-10-11T00:00:00\",\"2023-10-10T00:00:00\",\"2023-10-09T00:00:00\",\"2023-10-06T00:00:00\",\"2023-10-05T00:00:00\",\"2023-10-04T00:00:00\",\"2023-10-03T00:00:00\",\"2023-09-29T00:00:00\",\"2023-09-28T00:00:00\",\"2023-09-27T00:00:00\",\"2023-09-26T00:00:00\",\"2023-09-25T00:00:00\",\"2023-09-22T00:00:00\",\"2023-09-21T00:00:00\",\"2023-09-20T00:00:00\",\"2023-09-18T00:00:00\",\"2023-09-15T00:00:00\",\"2023-09-14T00:00:00\",\"2023-09-13T00:00:00\",\"2023-09-12T00:00:00\",\"2023-09-11T00:00:00\",\"2023-09-08T00:00:00\",\"2023-09-07T00:00:00\",\"2023-09-06T00:00:00\",\"2023-09-05T00:00:00\",\"2023-09-04T00:00:00\",\"2023-09-01T00:00:00\",\"2023-08-31T00:00:00\",\"2023-08-30T00:00:00\",\"2023-08-29T00:00:00\",\"2023-08-28T00:00:00\",\"2023-08-25T00:00:00\",\"2023-08-24T00:00:00\",\"2023-08-23T00:00:00\",\"2023-08-22T00:00:00\",\"2023-08-21T00:00:00\",\"2023-08-18T00:00:00\",\"2023-08-17T00:00:00\",\"2023-08-16T00:00:00\",\"2023-08-14T00:00:00\",\"2023-08-11T00:00:00\",\"2023-08-10T00:00:00\",\"2023-08-09T00:00:00\",\"2023-08-08T00:00:00\",\"2023-08-07T00:00:00\",\"2023-08-04T00:00:00\",\"2023-08-03T00:00:00\",\"2023-08-02T00:00:00\",\"2023-08-01T00:00:00\",\"2023-07-31T00:00:00\",\"2023-07-28T00:00:00\",\"2023-07-27T00:00:00\",\"2023-07-26T00:00:00\",\"2023-07-25T00:00:00\",\"2023-07-24T00:00:00\",\"2023-07-21T00:00:00\",\"2023-07-20T00:00:00\",\"2023-07-19T00:00:00\",\"2023-07-18T00:00:00\",\"2023-07-17T00:00:00\",\"2023-07-14T00:00:00\",\"2023-07-13T00:00:00\",\"2023-07-12T00:00:00\",\"2023-07-11T00:00:00\",\"2023-07-10T00:00:00\",\"2023-07-07T00:00:00\",\"2023-07-06T00:00:00\",\"2023-07-05T00:00:00\",\"2023-07-04T00:00:00\",\"2023-07-03T00:00:00\",\"2023-06-30T00:00:00\",\"2023-06-28T00:00:00\",\"2023-06-27T00:00:00\",\"2023-06-26T00:00:00\",\"2023-06-23T00:00:00\",\"2023-06-22T00:00:00\",\"2023-06-21T00:00:00\",\"2023-06-20T00:00:00\",\"2023-06-19T00:00:00\",\"2023-06-16T00:00:00\",\"2023-06-15T00:00:00\",\"2023-06-14T00:00:00\",\"2023-06-13T00:00:00\",\"2023-06-12T00:00:00\",\"2023-06-09T00:00:00\",\"2023-06-08T00:00:00\",\"2023-06-07T00:00:00\",\"2023-06-06T00:00:00\",\"2023-06-05T00:00:00\",\"2023-06-02T00:00:00\",\"2023-06-01T00:00:00\",\"2023-05-31T00:00:00\",\"2023-05-30T00:00:00\",\"2023-05-29T00:00:00\",\"2023-05-26T00:00:00\",\"2023-05-25T00:00:00\",\"2023-05-24T00:00:00\",\"2023-05-23T00:00:00\",\"2023-05-22T00:00:00\",\"2023-05-19T00:00:00\",\"2023-05-18T00:00:00\",\"2023-05-17T00:00:00\",\"2023-05-16T00:00:00\",\"2023-05-15T00:00:00\",\"2023-05-12T00:00:00\",\"2023-05-11T00:00:00\",\"2023-05-10T00:00:00\",\"2023-05-09T00:00:00\",\"2023-05-08T00:00:00\",\"2023-05-05T00:00:00\",\"2023-05-04T00:00:00\",\"2023-05-03T00:00:00\",\"2023-05-02T00:00:00\",\"2023-04-28T00:00:00\",\"2023-04-27T00:00:00\",\"2023-04-26T00:00:00\",\"2023-04-25T00:00:00\",\"2023-04-24T00:00:00\",\"2023-04-21T00:00:00\",\"2023-04-20T00:00:00\",\"2023-04-19T00:00:00\",\"2023-04-18T00:00:00\",\"2023-04-17T00:00:00\",\"2023-04-13T00:00:00\",\"2023-04-12T00:00:00\",\"2023-04-11T00:00:00\",\"2023-04-10T00:00:00\",\"2023-04-06T00:00:00\",\"2023-04-05T00:00:00\",\"2023-04-03T00:00:00\",\"2023-03-31T00:00:00\",\"2023-03-29T00:00:00\",\"2023-03-28T00:00:00\",\"2023-03-27T00:00:00\",\"2023-03-24T00:00:00\",\"2023-03-23T00:00:00\",\"2023-03-22T00:00:00\",\"2023-03-21T00:00:00\",\"2023-03-20T00:00:00\",\"2023-03-17T00:00:00\",\"2023-03-16T00:00:00\",\"2023-03-15T00:00:00\"],\"xaxis\":\"x\",\"y\":[4976.25,4938.5,4857.5,4868.25,4936.75,4887.3,4877.3,4824.8,4840.7,4925.3,4961.35,4887.2,4904.55,4900.55,4938.35,4957.3,4923.15,4923.65,4924.1,4914.15,4949.7,5009.25,4980.45,4969.25,4970.35,4871.1,5077.05,5006.2,5120.7,5146.6,5148.0,5200.15,5089.3,5130.25,5144.6,5140.7,5049.75,5141.05,5014.25,5064.65,5127.85,5177.25,5148.9,5140.2,5086.85,5115.15,5178.15,5271.95,5362.9,5252.95,5288.15,5315.8,5338.95,5261.1,5207.2,5236.45,5159.4,5056.15,4955.3,4909.95,4878.4,4915.65,4946.15,4921.4,4897.0,4938.15,4944.35,5018.1,5004.5,4947.7,4936.5,4969.3,4850.9,4802.15,4716.6,4642.85,4706.1,4691.15,4697.05,4712.25,4718.0,4696.65,4711.8,4696.2,4684.6,4645.65,4669.0,4659.1,4619.7,4548.05,4528.9,4400.8,4422.85,4463.1,4510.5,4510.85,4527.85,4528.05,4577.35,4604.2,4603.6,4602.0,4583.6,4580.05,4559.35,4554.0,4530.2,4523.95,4537.55,4529.55,4532.85,4498.6,4537.0,4522.1,4627.6,4602.9,4569.9,4562.25,4556.35,4530.15,4596.35,4531.95,4573.85,4608.55,4566.95,4565.5,4540.45,4529.6,4569.35,4515.6,4505.1,4485.05,4471.35,4549.2,4526.0,4510.7,4525.55,4544.2,4509.05,4509.95,4509.45,4535.65,4502.85,4498.7,4500.0,4511.3,4539.35,4602.5,4604.05,4659.65,4798.25,4790.05,4809.75,4818.0,4793.6,4903.5,4875.5,4984.35,4885.25,4969.85,5045.0,5051.05,5063.0,5062.4,5130.9,5146.0,5091.9,5071.8,5080.75,5030.7,5056.8,5168.75,5096.1,5008.1,5006.3,5022.45,4993.65,4955.2,4999.75,4971.0,4990.1,5074.6,5054.25,5016.1,5045.25,4973.6,4934.2,4939.75,4899.3,4877.7,4875.15,4893.1,4702.8,4687.65,4656.25,4630.65,4657.25,4571.75,4573.15,4596.9,4564.55,4518.05,4520.15,4497.6,4501.0,4566.5,4630.3,4606.45,4628.95,4617.65,4627.0,4605.8,4596.15,4600.0,4623.9,4584.75,4530.3,4509.3,4554.25,4413.2,4404.4,4402.6,4314.5,4327.25,4255.85,4297.55,4301.95,4335.35,4262.05,4268.4,4272.85,4265.9,4299.75,4328.25,4320.45,4322.0,4275.9,4199.35,4211.55,4195.65,4243.5,4245.35,4264.1,4328.55,4362.05,4313.05,4244.2],\"yaxis\":\"y\",\"type\":\"scatter\"}],                        {\"template\":{\"data\":{\"histogram2dcontour\":[{\"type\":\"histogram2dcontour\",\"colorbar\":{\"outlinewidth\":0,\"ticks\":\"\"},\"colorscale\":[[0.0,\"#0d0887\"],[0.1111111111111111,\"#46039f\"],[0.2222222222222222,\"#7201a8\"],[0.3333333333333333,\"#9c179e\"],[0.4444444444444444,\"#bd3786\"],[0.5555555555555556,\"#d8576b\"],[0.6666666666666666,\"#ed7953\"],[0.7777777777777778,\"#fb9f3a\"],[0.8888888888888888,\"#fdca26\"],[1.0,\"#f0f921\"]]}],\"choropleth\":[{\"type\":\"choropleth\",\"colorbar\":{\"outlinewidth\":0,\"ticks\":\"\"}}],\"histogram2d\":[{\"type\":\"histogram2d\",\"colorbar\":{\"outlinewidth\":0,\"ticks\":\"\"},\"colorscale\":[[0.0,\"#0d0887\"],[0.1111111111111111,\"#46039f\"],[0.2222222222222222,\"#7201a8\"],[0.3333333333333333,\"#9c179e\"],[0.4444444444444444,\"#bd3786\"],[0.5555555555555556,\"#d8576b\"],[0.6666666666666666,\"#ed7953\"],[0.7777777777777778,\"#fb9f3a\"],[0.8888888888888888,\"#fdca26\"],[1.0,\"#f0f921\"]]}],\"heatmap\":[{\"type\":\"heatmap\",\"colorbar\":{\"outlinewidth\":0,\"ticks\":\"\"},\"colorscale\":[[0.0,\"#0d0887\"],[0.1111111111111111,\"#46039f\"],[0.2222222222222222,\"#7201a8\"],[0.3333333333333333,\"#9c179e\"],[0.4444444444444444,\"#bd3786\"],[0.5555555555555556,\"#d8576b\"],[0.6666666666666666,\"#ed7953\"],[0.7777777777777778,\"#fb9f3a\"],[0.8888888888888888,\"#fdca26\"],[1.0,\"#f0f921\"]]}],\"heatmapgl\":[{\"type\":\"heatmapgl\",\"colorbar\":{\"outlinewidth\":0,\"ticks\":\"\"},\"colorscale\":[[0.0,\"#0d0887\"],[0.1111111111111111,\"#46039f\"],[0.2222222222222222,\"#7201a8\"],[0.3333333333333333,\"#9c179e\"],[0.4444444444444444,\"#bd3786\"],[0.5555555555555556,\"#d8576b\"],[0.6666666666666666,\"#ed7953\"],[0.7777777777777778,\"#fb9f3a\"],[0.8888888888888888,\"#fdca26\"],[1.0,\"#f0f921\"]]}],\"contourcarpet\":[{\"type\":\"contourcarpet\",\"colorbar\":{\"outlinewidth\":0,\"ticks\":\"\"}}],\"contour\":[{\"type\":\"contour\",\"colorbar\":{\"outlinewidth\":0,\"ticks\":\"\"},\"colorscale\":[[0.0,\"#0d0887\"],[0.1111111111111111,\"#46039f\"],[0.2222222222222222,\"#7201a8\"],[0.3333333333333333,\"#9c179e\"],[0.4444444444444444,\"#bd3786\"],[0.5555555555555556,\"#d8576b\"],[0.6666666666666666,\"#ed7953\"],[0.7777777777777778,\"#fb9f3a\"],[0.8888888888888888,\"#fdca26\"],[1.0,\"#f0f921\"]]}],\"surface\":[{\"type\":\"surface\",\"colorbar\":{\"outlinewidth\":0,\"ticks\":\"\"},\"colorscale\":[[0.0,\"#0d0887\"],[0.1111111111111111,\"#46039f\"],[0.2222222222222222,\"#7201a8\"],[0.3333333333333333,\"#9c179e\"],[0.4444444444444444,\"#bd3786\"],[0.5555555555555556,\"#d8576b\"],[0.6666666666666666,\"#ed7953\"],[0.7777777777777778,\"#fb9f3a\"],[0.8888888888888888,\"#fdca26\"],[1.0,\"#f0f921\"]]}],\"mesh3d\":[{\"type\":\"mesh3d\",\"colorbar\":{\"outlinewidth\":0,\"ticks\":\"\"}}],\"scatter\":[{\"fillpattern\":{\"fillmode\":\"overlay\",\"size\":10,\"solidity\":0.2},\"type\":\"scatter\"}],\"parcoords\":[{\"type\":\"parcoords\",\"line\":{\"colorbar\":{\"outlinewidth\":0,\"ticks\":\"\"}}}],\"scatterpolargl\":[{\"type\":\"scatterpolargl\",\"marker\":{\"colorbar\":{\"outlinewidth\":0,\"ticks\":\"\"}}}],\"bar\":[{\"error_x\":{\"color\":\"#2a3f5f\"},\"error_y\":{\"color\":\"#2a3f5f\"},\"marker\":{\"line\":{\"color\":\"#E5ECF6\",\"width\":0.5},\"pattern\":{\"fillmode\":\"overlay\",\"size\":10,\"solidity\":0.2}},\"type\":\"bar\"}],\"scattergeo\":[{\"type\":\"scattergeo\",\"marker\":{\"colorbar\":{\"outlinewidth\":0,\"ticks\":\"\"}}}],\"scatterpolar\":[{\"type\":\"scatterpolar\",\"marker\":{\"colorbar\":{\"outlinewidth\":0,\"ticks\":\"\"}}}],\"histogram\":[{\"marker\":{\"pattern\":{\"fillmode\":\"overlay\",\"size\":10,\"solidity\":0.2}},\"type\":\"histogram\"}],\"scattergl\":[{\"type\":\"scattergl\",\"marker\":{\"colorbar\":{\"outlinewidth\":0,\"ticks\":\"\"}}}],\"scatter3d\":[{\"type\":\"scatter3d\",\"line\":{\"colorbar\":{\"outlinewidth\":0,\"ticks\":\"\"}},\"marker\":{\"colorbar\":{\"outlinewidth\":0,\"ticks\":\"\"}}}],\"scattermapbox\":[{\"type\":\"scattermapbox\",\"marker\":{\"colorbar\":{\"outlinewidth\":0,\"ticks\":\"\"}}}],\"scatterternary\":[{\"type\":\"scatterternary\",\"marker\":{\"colorbar\":{\"outlinewidth\":0,\"ticks\":\"\"}}}],\"scattercarpet\":[{\"type\":\"scattercarpet\",\"marker\":{\"colorbar\":{\"outlinewidth\":0,\"ticks\":\"\"}}}],\"carpet\":[{\"aaxis\":{\"endlinecolor\":\"#2a3f5f\",\"gridcolor\":\"white\",\"linecolor\":\"white\",\"minorgridcolor\":\"white\",\"startlinecolor\":\"#2a3f5f\"},\"baxis\":{\"endlinecolor\":\"#2a3f5f\",\"gridcolor\":\"white\",\"linecolor\":\"white\",\"minorgridcolor\":\"white\",\"startlinecolor\":\"#2a3f5f\"},\"type\":\"carpet\"}],\"table\":[{\"cells\":{\"fill\":{\"color\":\"#EBF0F8\"},\"line\":{\"color\":\"white\"}},\"header\":{\"fill\":{\"color\":\"#C8D4E3\"},\"line\":{\"color\":\"white\"}},\"type\":\"table\"}],\"barpolar\":[{\"marker\":{\"line\":{\"color\":\"#E5ECF6\",\"width\":0.5},\"pattern\":{\"fillmode\":\"overlay\",\"size\":10,\"solidity\":0.2}},\"type\":\"barpolar\"}],\"pie\":[{\"automargin\":true,\"type\":\"pie\"}]},\"layout\":{\"autotypenumbers\":\"strict\",\"colorway\":[\"#636efa\",\"#EF553B\",\"#00cc96\",\"#ab63fa\",\"#FFA15A\",\"#19d3f3\",\"#FF6692\",\"#B6E880\",\"#FF97FF\",\"#FECB52\"],\"font\":{\"color\":\"#2a3f5f\"},\"hovermode\":\"closest\",\"hoverlabel\":{\"align\":\"left\"},\"paper_bgcolor\":\"white\",\"plot_bgcolor\":\"#E5ECF6\",\"polar\":{\"bgcolor\":\"#E5ECF6\",\"angularaxis\":{\"gridcolor\":\"white\",\"linecolor\":\"white\",\"ticks\":\"\"},\"radialaxis\":{\"gridcolor\":\"white\",\"linecolor\":\"white\",\"ticks\":\"\"}},\"ternary\":{\"bgcolor\":\"#E5ECF6\",\"aaxis\":{\"gridcolor\":\"white\",\"linecolor\":\"white\",\"ticks\":\"\"},\"baxis\":{\"gridcolor\":\"white\",\"linecolor\":\"white\",\"ticks\":\"\"},\"caxis\":{\"gridcolor\":\"white\",\"linecolor\":\"white\",\"ticks\":\"\"}},\"coloraxis\":{\"colorbar\":{\"outlinewidth\":0,\"ticks\":\"\"}},\"colorscale\":{\"sequential\":[[0.0,\"#0d0887\"],[0.1111111111111111,\"#46039f\"],[0.2222222222222222,\"#7201a8\"],[0.3333333333333333,\"#9c179e\"],[0.4444444444444444,\"#bd3786\"],[0.5555555555555556,\"#d8576b\"],[0.6666666666666666,\"#ed7953\"],[0.7777777777777778,\"#fb9f3a\"],[0.8888888888888888,\"#fdca26\"],[1.0,\"#f0f921\"]],\"sequentialminus\":[[0.0,\"#0d0887\"],[0.1111111111111111,\"#46039f\"],[0.2222222222222222,\"#7201a8\"],[0.3333333333333333,\"#9c179e\"],[0.4444444444444444,\"#bd3786\"],[0.5555555555555556,\"#d8576b\"],[0.6666666666666666,\"#ed7953\"],[0.7777777777777778,\"#fb9f3a\"],[0.8888888888888888,\"#fdca26\"],[1.0,\"#f0f921\"]],\"diverging\":[[0,\"#8e0152\"],[0.1,\"#c51b7d\"],[0.2,\"#de77ae\"],[0.3,\"#f1b6da\"],[0.4,\"#fde0ef\"],[0.5,\"#f7f7f7\"],[0.6,\"#e6f5d0\"],[0.7,\"#b8e186\"],[0.8,\"#7fbc41\"],[0.9,\"#4d9221\"],[1,\"#276419\"]]},\"xaxis\":{\"gridcolor\":\"white\",\"linecolor\":\"white\",\"ticks\":\"\",\"title\":{\"standoff\":15},\"zerolinecolor\":\"white\",\"automargin\":true,\"zerolinewidth\":2},\"yaxis\":{\"gridcolor\":\"white\",\"linecolor\":\"white\",\"ticks\":\"\",\"title\":{\"standoff\":15},\"zerolinecolor\":\"white\",\"automargin\":true,\"zerolinewidth\":2},\"scene\":{\"xaxis\":{\"backgroundcolor\":\"#E5ECF6\",\"gridcolor\":\"white\",\"linecolor\":\"white\",\"showbackground\":true,\"ticks\":\"\",\"zerolinecolor\":\"white\",\"gridwidth\":2},\"yaxis\":{\"backgroundcolor\":\"#E5ECF6\",\"gridcolor\":\"white\",\"linecolor\":\"white\",\"showbackground\":true,\"ticks\":\"\",\"zerolinecolor\":\"white\",\"gridwidth\":2},\"zaxis\":{\"backgroundcolor\":\"#E5ECF6\",\"gridcolor\":\"white\",\"linecolor\":\"white\",\"showbackground\":true,\"ticks\":\"\",\"zerolinecolor\":\"white\",\"gridwidth\":2}},\"shapedefaults\":{\"line\":{\"color\":\"#2a3f5f\"}},\"annotationdefaults\":{\"arrowcolor\":\"#2a3f5f\",\"arrowhead\":0,\"arrowwidth\":1},\"geo\":{\"bgcolor\":\"white\",\"landcolor\":\"#E5ECF6\",\"subunitcolor\":\"white\",\"showland\":true,\"showlakes\":true,\"lakecolor\":\"white\"},\"title\":{\"x\":0.05},\"mapbox\":{\"style\":\"light\"}}},\"xaxis\":{\"anchor\":\"y\",\"domain\":[0.0,1.0],\"title\":{\"text\":\"Year\"}},\"yaxis\":{\"anchor\":\"x\",\"domain\":[0.0,1.0],\"title\":{\"text\":\"Price\"}},\"legend\":{\"tracegroupgap\":0},\"title\":{\"text\":\"Stock Prices of Britannia\",\"y\":0.9,\"x\":0.5,\"xanchor\":\"center\",\"yanchor\":\"top\"},\"width\":500,\"height\":500},                        {\"responsive\": true}                    ).then(function(){\n",
              "                            \n",
              "var gd = document.getElementById('174195e0-6ec0-4aed-a011-678e53ed963b');\n",
              "var x = new MutationObserver(function (mutations, observer) {{\n",
              "        var display = window.getComputedStyle(gd).display;\n",
              "        if (!display || display === 'none') {{\n",
              "            console.log([gd, 'removed!']);\n",
              "            Plotly.purge(gd);\n",
              "            observer.disconnect();\n",
              "        }}\n",
              "}});\n",
              "\n",
              "// Listen for the removal of the full notebook cells\n",
              "var notebookContainer = gd.closest('#notebook-container');\n",
              "if (notebookContainer) {{\n",
              "    x.observe(notebookContainer, {childList: true});\n",
              "}}\n",
              "\n",
              "// Listen for the clearing of the current output cell\n",
              "var outputEl = gd.closest('.output');\n",
              "if (outputEl) {{\n",
              "    x.observe(outputEl, {childList: true});\n",
              "}}\n",
              "\n",
              "                        })                };                });            </script>        </div>"
            ]
          },
          "metadata": {}
        }
      ]
    },
    {
      "cell_type": "code",
      "source": [
        "# Building the regression model\n",
        "from sklearn.model_selection import train_test_split\n",
        "\n",
        "#for preprocessing\n",
        "from sklearn.preprocessing import MinMaxScaler\n",
        "from sklearn.preprocessing import StandardScaler\n",
        "\n",
        "#for model evaluation\n",
        "from sklearn.metrics import mean_squared_error, r2_score"
      ],
      "metadata": {
        "id": "0UBG9YQsA6wV"
      },
      "execution_count": 44,
      "outputs": []
    },
    {
      "cell_type": "code",
      "source": [
        "# Feature selection\n",
        "Britannia['Day'] = Britannia['Date'].dt.day\n",
        "Britannia['Month'] = Britannia['Date'].dt.month\n",
        "Britannia['Year'] = Britannia['Date'].dt.year"
      ],
      "metadata": {
        "id": "C7RqON4xGFlr"
      },
      "execution_count": 46,
      "outputs": []
    },
    {
      "cell_type": "code",
      "source": [
        "# Select features and target\n",
        "features = ['Open', 'High', 'Low', 'Volume', 'Day', 'Month', 'Year']\n",
        "X = Britannia[features]\n",
        "y = Britannia['Close']"
      ],
      "metadata": {
        "id": "_JrsGzuhFiWv"
      },
      "execution_count": 47,
      "outputs": []
    },
    {
      "cell_type": "code",
      "source": [
        "# Split the data into training and testing sets\n",
        "X_train, X_test, y_train, y_test = train_test_split(X, y, test_size=0.2, random_state=42)"
      ],
      "metadata": {
        "id": "kCnn428sFrFJ"
      },
      "execution_count": 48,
      "outputs": []
    },
    {
      "cell_type": "code",
      "source": [
        "# Create and train the model\n",
        "model = LinearRegression()\n",
        "model.fit(X_train, y_train)"
      ],
      "metadata": {
        "colab": {
          "base_uri": "https://localhost:8080/",
          "height": 74
        },
        "id": "bDSvIXC0FxHw",
        "outputId": "c26d07b8-75dc-4288-ddfa-1a54d4b29ab7"
      },
      "execution_count": 49,
      "outputs": [
        {
          "output_type": "execute_result",
          "data": {
            "text/plain": [
              "LinearRegression()"
            ],
            "text/html": [
              "<style>#sk-container-id-2 {color: black;background-color: white;}#sk-container-id-2 pre{padding: 0;}#sk-container-id-2 div.sk-toggleable {background-color: white;}#sk-container-id-2 label.sk-toggleable__label {cursor: pointer;display: block;width: 100%;margin-bottom: 0;padding: 0.3em;box-sizing: border-box;text-align: center;}#sk-container-id-2 label.sk-toggleable__label-arrow:before {content: \"▸\";float: left;margin-right: 0.25em;color: #696969;}#sk-container-id-2 label.sk-toggleable__label-arrow:hover:before {color: black;}#sk-container-id-2 div.sk-estimator:hover label.sk-toggleable__label-arrow:before {color: black;}#sk-container-id-2 div.sk-toggleable__content {max-height: 0;max-width: 0;overflow: hidden;text-align: left;background-color: #f0f8ff;}#sk-container-id-2 div.sk-toggleable__content pre {margin: 0.2em;color: black;border-radius: 0.25em;background-color: #f0f8ff;}#sk-container-id-2 input.sk-toggleable__control:checked~div.sk-toggleable__content {max-height: 200px;max-width: 100%;overflow: auto;}#sk-container-id-2 input.sk-toggleable__control:checked~label.sk-toggleable__label-arrow:before {content: \"▾\";}#sk-container-id-2 div.sk-estimator input.sk-toggleable__control:checked~label.sk-toggleable__label {background-color: #d4ebff;}#sk-container-id-2 div.sk-label input.sk-toggleable__control:checked~label.sk-toggleable__label {background-color: #d4ebff;}#sk-container-id-2 input.sk-hidden--visually {border: 0;clip: rect(1px 1px 1px 1px);clip: rect(1px, 1px, 1px, 1px);height: 1px;margin: -1px;overflow: hidden;padding: 0;position: absolute;width: 1px;}#sk-container-id-2 div.sk-estimator {font-family: monospace;background-color: #f0f8ff;border: 1px dotted black;border-radius: 0.25em;box-sizing: border-box;margin-bottom: 0.5em;}#sk-container-id-2 div.sk-estimator:hover {background-color: #d4ebff;}#sk-container-id-2 div.sk-parallel-item::after {content: \"\";width: 100%;border-bottom: 1px solid gray;flex-grow: 1;}#sk-container-id-2 div.sk-label:hover label.sk-toggleable__label {background-color: #d4ebff;}#sk-container-id-2 div.sk-serial::before {content: \"\";position: absolute;border-left: 1px solid gray;box-sizing: border-box;top: 0;bottom: 0;left: 50%;z-index: 0;}#sk-container-id-2 div.sk-serial {display: flex;flex-direction: column;align-items: center;background-color: white;padding-right: 0.2em;padding-left: 0.2em;position: relative;}#sk-container-id-2 div.sk-item {position: relative;z-index: 1;}#sk-container-id-2 div.sk-parallel {display: flex;align-items: stretch;justify-content: center;background-color: white;position: relative;}#sk-container-id-2 div.sk-item::before, #sk-container-id-2 div.sk-parallel-item::before {content: \"\";position: absolute;border-left: 1px solid gray;box-sizing: border-box;top: 0;bottom: 0;left: 50%;z-index: -1;}#sk-container-id-2 div.sk-parallel-item {display: flex;flex-direction: column;z-index: 1;position: relative;background-color: white;}#sk-container-id-2 div.sk-parallel-item:first-child::after {align-self: flex-end;width: 50%;}#sk-container-id-2 div.sk-parallel-item:last-child::after {align-self: flex-start;width: 50%;}#sk-container-id-2 div.sk-parallel-item:only-child::after {width: 0;}#sk-container-id-2 div.sk-dashed-wrapped {border: 1px dashed gray;margin: 0 0.4em 0.5em 0.4em;box-sizing: border-box;padding-bottom: 0.4em;background-color: white;}#sk-container-id-2 div.sk-label label {font-family: monospace;font-weight: bold;display: inline-block;line-height: 1.2em;}#sk-container-id-2 div.sk-label-container {text-align: center;}#sk-container-id-2 div.sk-container {/* jupyter's `normalize.less` sets `[hidden] { display: none; }` but bootstrap.min.css set `[hidden] { display: none !important; }` so we also need the `!important` here to be able to override the default hidden behavior on the sphinx rendered scikit-learn.org. See: https://github.com/scikit-learn/scikit-learn/issues/21755 */display: inline-block !important;position: relative;}#sk-container-id-2 div.sk-text-repr-fallback {display: none;}</style><div id=\"sk-container-id-2\" class=\"sk-top-container\"><div class=\"sk-text-repr-fallback\"><pre>LinearRegression()</pre><b>In a Jupyter environment, please rerun this cell to show the HTML representation or trust the notebook. <br />On GitHub, the HTML representation is unable to render, please try loading this page with nbviewer.org.</b></div><div class=\"sk-container\" hidden><div class=\"sk-item\"><div class=\"sk-estimator sk-toggleable\"><input class=\"sk-toggleable__control sk-hidden--visually\" id=\"sk-estimator-id-2\" type=\"checkbox\" checked><label for=\"sk-estimator-id-2\" class=\"sk-toggleable__label sk-toggleable__label-arrow\">LinearRegression</label><div class=\"sk-toggleable__content\"><pre>LinearRegression()</pre></div></div></div></div></div>"
            ]
          },
          "metadata": {},
          "execution_count": 49
        }
      ]
    },
    {
      "cell_type": "code",
      "source": [
        "# Make predictions on the test set\n",
        "y_pred = model.predict(X_test)"
      ],
      "metadata": {
        "id": "7AKdw_EvBNdP"
      },
      "execution_count": 50,
      "outputs": []
    },
    {
      "cell_type": "code",
      "source": [
        "# Calculate performance metrics\n",
        "mse = mean_squared_error(y_test, y_pred)\n",
        "rmse = mse ** 0.5\n",
        "r2 = r2_score(y_test, y_pred)"
      ],
      "metadata": {
        "id": "m3hg9mXoBP5Y"
      },
      "execution_count": 51,
      "outputs": []
    },
    {
      "cell_type": "code",
      "source": [
        "print(f'Mean Squared Error (MSE): {mse}')\n",
        "print(f'Root Mean Squared Error (RMSE): {rmse}')\n",
        "print(f'R-squared (R2): {r2}')"
      ],
      "metadata": {
        "colab": {
          "base_uri": "https://localhost:8080/"
        },
        "id": "B2lBYc_4BSS9",
        "outputId": "359c6526-052a-45cc-f532-1b1fdf674cfe"
      },
      "execution_count": 53,
      "outputs": [
        {
          "output_type": "stream",
          "name": "stdout",
          "text": [
            "Mean Squared Error (MSE): 613.1792092529405\n",
            "Root Mean Squared Error (RMSE): 24.76245563858602\n",
            "R-squared (R2): 0.9926212945013169\n"
          ]
        }
      ]
    },
    {
      "cell_type": "code",
      "source": [
        "# Calculate R-squared (R2) score\n",
        "r2 = r2_score(y_test, y_pred)\n",
        "print(f'R-squared (R2) score: {r2}')"
      ],
      "metadata": {
        "colab": {
          "base_uri": "https://localhost:8080/"
        },
        "id": "VuEaevXDGll9",
        "outputId": "98005912-83f3-4e7c-f68e-a608ccf9d097"
      },
      "execution_count": 54,
      "outputs": [
        {
          "output_type": "stream",
          "name": "stdout",
          "text": [
            "R-squared (R2) score: 0.9926212945013169\n"
          ]
        }
      ]
    },
    {
      "cell_type": "markdown",
      "source": [
        "#### Comparison of the actual and predicted stock prices"
      ],
      "metadata": {
        "id": "RCszBKciHCUt"
      }
    },
    {
      "cell_type": "code",
      "source": [
        "# Plot the comparison between actual and predicted stock prices\n",
        "plt.figure(figsize=(10, 6))\n",
        "plt.plot(y_test.index, y_test, label='Actual', color='blue')\n",
        "plt.plot(y_test.index, y_pred, label='Predicted', color='red')\n",
        "plt.title('Comparison of Actual and Predicted Stock Prices')\n",
        "plt.xlabel('Index')\n",
        "plt.ylabel('Stock Price')\n",
        "plt.legend()\n",
        "plt.grid(True)\n",
        "plt.show()"
      ],
      "metadata": {
        "id": "levHD5ROBfoJ",
        "colab": {
          "base_uri": "https://localhost:8080/",
          "height": 427
        },
        "outputId": "dc7b93ce-ebdb-4eb2-a1b4-cff25b36104b"
      },
      "execution_count": 55,
      "outputs": [
        {
          "output_type": "display_data",
          "data": {
            "text/plain": [
              "<Figure size 1000x600 with 1 Axes>"
            ],
            "image/png": "[encoded data removed]"
          },
          "metadata": {}
        }
      ]
    },
    {
      "cell_type": "markdown",
      "source": [
        "The lines are almost overlapping with the actual ones, therefore the model gives 99% accuracy"
      ],
      "metadata": {
        "id": "LXNggfAnHND4"
      }
    },
    {
      "cell_type": "markdown",
      "source": [
        "#### Now predicting it for April 2024 stocks"
      ],
      "metadata": {
        "id": "Oko9T21nHaUE"
      }
    },
    {
      "cell_type": "code",
      "source": [
        "# Create input features for each day in April 2024\n",
        "predicted_prices = []\n",
        "for day in range(1, 31):\n",
        "    april_features = pd.DataFrame({\n",
        "        'Open': [Britannia['Open'].iloc[0]] *len(Britannia),  # Taking the first value as an example\n",
        "        'High': [Britannia['High'].iloc[0]] *len(Britannia),  # Taking the first value as an example\n",
        "        'Low': [Britannia['Low'].iloc[0]] *len(Britannia),   # Taking the first value as an example\n",
        "        'Volume': [Britannia['Volume'].iloc[0]] *len(Britannia),  # Taking the first value as an example\n",
        "        'Day': [day] *len(Britannia),\n",
        "        'Month':[4] *len(Britannia),\n",
        "        'Year': [2024] *len(Britannia)\n",
        "    })\n",
        "\n",
        "    # Make the prediction\n",
        "    predicted_price = model.predict(april_features)[2]\n",
        "    predicted_prices.append(predicted_price)\n",
        "\n",
        "# Create a DataFrame to store the predicted prices\n",
        "predicted_prices_df = pd.DataFrame({\n",
        "    'Date': pd.date_range(start='2024-04-01', end='2024-04-30'),\n",
        "    'Predicted_Price': predicted_prices\n",
        "})\n",
        "\n",
        "print(predicted_prices_df)"
      ],
      "metadata": {
        "colab": {
          "base_uri": "https://localhost:8080/"
        },
        "id": "DiVtbDdsI8vk",
        "outputId": "2d07b70c-2942-4410-96d2-57e77d4d9745"
      },
      "execution_count": 63,
      "outputs": [
        {
          "output_type": "stream",
          "name": "stdout",
          "text": [
            "         Date  Predicted_Price\n",
            "0  2024-04-01      4978.712971\n",
            "1  2024-04-02      4978.746835\n",
            "2  2024-04-03      4978.780698\n",
            "3  2024-04-04      4978.814562\n",
            "4  2024-04-05      4978.848426\n",
            "5  2024-04-06      4978.882289\n",
            "6  2024-04-07      4978.916153\n",
            "7  2024-04-08      4978.950016\n",
            "8  2024-04-09      4978.983880\n",
            "9  2024-04-10      4979.017744\n",
            "10 2024-04-11      4979.051607\n",
            "11 2024-04-12      4979.085471\n",
            "12 2024-04-13      4979.119335\n",
            "13 2024-04-14      4979.153198\n",
            "14 2024-04-15      4979.187062\n",
            "15 2024-04-16      4979.220926\n",
            "16 2024-04-17      4979.254789\n",
            "17 2024-04-18      4979.288653\n",
            "18 2024-04-19      4979.322516\n",
            "19 2024-04-20      4979.356380\n",
            "20 2024-04-21      4979.390244\n",
            "21 2024-04-22      4979.424107\n",
            "22 2024-04-23      4979.457971\n",
            "23 2024-04-24      4979.491835\n",
            "24 2024-04-25      4979.525698\n",
            "25 2024-04-26      4979.559562\n",
            "26 2024-04-27      4979.593426\n",
            "27 2024-04-28      4979.627289\n",
            "28 2024-04-29      4979.661153\n",
            "29 2024-04-30      4979.695016\n"
          ]
        }
      ]
    },
    {
      "cell_type": "code",
      "source": [],
      "metadata": {
        "id": "MiGA9MzVIfFX"
      },
      "execution_count": null,
      "outputs": []
    }
  ]
}